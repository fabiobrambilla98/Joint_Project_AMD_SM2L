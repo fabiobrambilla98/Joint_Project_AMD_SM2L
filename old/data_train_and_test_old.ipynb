{
 "cells": [
  {
   "cell_type": "code",
   "execution_count": 1,
   "metadata": {},
   "outputs": [],
   "source": [
    "import pandas as pd\n",
    "import numpy as np\n",
    "import tqdm\n",
    "from DecisionTreeClassifier import DTC"
   ]
  },
  {
   "cell_type": "code",
   "execution_count": 2,
   "metadata": {},
   "outputs": [
    {
     "name": "stderr",
     "output_type": "stream",
     "text": [
      "WARNING: An illegal reflective access operation has occurred\n",
      "WARNING: Illegal reflective access by org.apache.spark.unsafe.Platform (file:/home/fabio/spark-3.2.4-bin-hadoop3.2/jars/spark-unsafe_2.12-3.2.4.jar) to constructor java.nio.DirectByteBuffer(long,int)\n",
      "WARNING: Please consider reporting this to the maintainers of org.apache.spark.unsafe.Platform\n",
      "WARNING: Use --illegal-access=warn to enable warnings of further illegal reflective access operations\n",
      "WARNING: All illegal access operations will be denied in a future release\n",
      "Using Spark's default log4j profile: org/apache/spark/log4j-defaults.properties\n",
      "Setting default log level to \"WARN\".\n",
      "To adjust logging level use sc.setLogLevel(newLevel). For SparkR, use setLogLevel(newLevel).\n",
      "23/08/04 18:55:59 WARN NativeCodeLoader: Unable to load native-hadoop library for your platform... using builtin-java classes where applicable\n",
      "23/08/04 18:55:59 WARN Utils: Service 'SparkUI' could not bind on port 4040. Attempting port 4041.\n"
     ]
    },
    {
     "name": "stdout",
     "output_type": "stream",
     "text": [
      "Spark session created\n",
      "Spark context created\n"
     ]
    }
   ],
   "source": [
    "import sys\n",
    "sys.path.append(\"/Users/fabio/jars\")\n",
    "from pyspark.sql import functions as F\n",
    "from pyspark.sql import SparkSession\n",
    "from pyspark import SparkContext\n",
    "from graphframes import GraphFrame\n",
    "from pyspark.sql.types import *\n",
    "\n",
    "\n",
    "spark_driver_memory = \"10g\"\n",
    "spark_executor_memory = \"6g\"\n",
    "\n",
    "\n",
    "\n",
    "spark = SparkSession.builder \\\n",
    "                    .config(\"spark.driver.memory\", spark_driver_memory) \\\n",
    "                    .config(\"spark.executor.memory\", spark_executor_memory) \\\n",
    "                    .master(\"local[*]\") \\\n",
    "                    .getOrCreate()\n",
    "spark.sparkContext.setLogLevel('WARN')\n",
    "print(\"Spark session created\")\n",
    "sc = spark.sparkContext\n",
    "print(\"Spark context created\")"
   ]
  },
  {
   "cell_type": "code",
   "execution_count": 3,
   "metadata": {},
   "outputs": [
    {
     "name": "stderr",
     "output_type": "stream",
     "text": [
      "                                                                                \r"
     ]
    }
   ],
   "source": [
    "train_df = spark.read\\\n",
    "    .format(\"csv\")\\\n",
    "    .option(\"header\", \"true\")\\\n",
    "    .option(\"inferSchema\", \"true\")\\\n",
    "    .load(\"./preprocessed_data/train_small\")"
   ]
  },
  {
   "cell_type": "code",
   "execution_count": 4,
   "metadata": {},
   "outputs": [],
   "source": [
    "train_df = train_df.drop(\"amount_received\").drop(\"amount_paid\").drop(\"hop_2\").drop(\"hop_3\").drop(\"hop_4\").drop(\"hop_5\").drop(\"hop_6\").drop(\"hop_7\").drop(\"hop_8\").drop(\"hop_9\").drop(\"hop_10\").drop(\"hop_11\").drop(\"hop_12\").drop(\"hop_13\").drop(\"fan_in_degree\").drop(\"fan_out_degree\").drop(\"payment_payment\")"
   ]
  },
  {
   "cell_type": "code",
   "execution_count": 5,
   "metadata": {},
   "outputs": [
    {
     "name": "stdout",
     "output_type": "stream",
     "text": [
      "root\n",
      " |-- receiving_currency: integer (nullable = true)\n",
      " |-- payment_currency: integer (nullable = true)\n",
      " |-- payment_format: integer (nullable = true)\n",
      " |-- is_laundering: integer (nullable = true)\n",
      " |-- same_account: integer (nullable = true)\n",
      " |-- same_currency: integer (nullable = true)\n",
      " |-- same_bank: integer (nullable = true)\n",
      " |-- same_amount: integer (nullable = true)\n",
      "\n"
     ]
    }
   ],
   "source": [
    "train_df.printSchema()"
   ]
  },
  {
   "cell_type": "code",
   "execution_count": 6,
   "metadata": {},
   "outputs": [
    {
     "name": "stderr",
     "output_type": "stream",
     "text": [
      "                                                                                \r"
     ]
    }
   ],
   "source": [
    "train_all = np.array(train_df.collect())"
   ]
  },
  {
   "cell_type": "code",
   "execution_count": 7,
   "metadata": {},
   "outputs": [],
   "source": [
    "X_1 = [i for i,x in enumerate(train_all) if x[3] == 1]\n",
    "X_0 = [i for i,x in enumerate(train_all) if x[3] == 0]\n",
    "\n",
    "X = pd.DataFrame([train_all[i] for i in X_1] + [train_all[i] for i in X_0[:len(X_1)]])\n",
    "X_train = np.array(X.drop(3, axis=1))\n",
    "y_train = np.array(X.iloc[:,3])\n",
    "\n",
    "X_t = pd.DataFrame([train_all[i] for i in X_0[len(X_1):]])\n",
    "x_t = np.array(X_t.drop(3, axis=1))\n",
    "y_t = np.array(X_t.iloc[:,3])\n"
   ]
  },
  {
   "cell_type": "code",
   "execution_count": 8,
   "metadata": {},
   "outputs": [
    {
     "data": {
      "text/plain": [
       "'plt.figure(figsize=(40, 30))\\ntree.plot_tree(clf, feature_names=train_df.columns, class_names=[\"0\",\"1\"], filled=True, rounded=True)\\nplt.show()'"
      ]
     },
     "execution_count": 8,
     "metadata": {},
     "output_type": "execute_result"
    }
   ],
   "source": [
    "from sklearn.tree import DecisionTreeClassifier\n",
    "from sklearn.ensemble import RandomForestClassifier\n",
    "from sklearn.model_selection import cross_val_score\n",
    "from sklearn import tree\n",
    "import matplotlib.pyplot as plt\n",
    "#rf = RandomForestClassifier(random_state=0, class_weight=\"balanced_subsample\")\n",
    "#rf.fit(X_train, y_train)\n",
    "\n",
    "\n",
    "clf = DTC()\n",
    "clf.fit(X_train, y_train)\n",
    "\n",
    "\n",
    "# Genera la rappresentazione grafica dell'albero decisionale\n",
    "\"\"\"plt.figure(figsize=(40, 30))\n",
    "tree.plot_tree(clf, feature_names=train_df.columns, class_names=[\"0\",\"1\"], filled=True, rounded=True)\n",
    "plt.show()\"\"\""
   ]
  },
  {
   "cell_type": "code",
   "execution_count": 9,
   "metadata": {},
   "outputs": [
    {
     "name": "stderr",
     "output_type": "stream",
     "text": [
      "                                                                                \r"
     ]
    }
   ],
   "source": [
    "test_df = spark.read\\\n",
    "    .format(\"csv\")\\\n",
    "    .option(\"header\", \"true\")\\\n",
    "    .option(\"inferSchema\", \"true\")\\\n",
    "    .load(\"./preprocessed_data/validation_small\")\n",
    "test_df = test_df.drop(\"amount_received\").drop(\"amount_paid\").drop(\"hop_2\").drop(\"hop_3\").drop(\"hop_4\").drop(\"hop_5\").drop(\"hop_6\").drop(\"hop_7\").drop(\"hop_8\").drop(\"hop_9\").drop(\"hop_10\").drop(\"hop_11\").drop(\"hop_12\").drop(\"hop_13\").drop(\"fan_in_degree\").drop(\"fan_out_degree\").drop(\"payment_payment\")"
   ]
  },
  {
   "cell_type": "code",
   "execution_count": 10,
   "metadata": {},
   "outputs": [],
   "source": [
    "# Convert X_test to a 2D array\n",
    "X_test_array = np.array([list(x.asDict().values()) for x in list(test_df.drop(\"is_laundering\").collect())])\n",
    "X_t_array = np.array(x_t)\n",
    "\n",
    "# Concatenate the arrays into a single 2D array\n",
    "X_test_combined = np.concatenate((X_test_array, X_t_array), axis=0)\n",
    "\n",
    "# Convert y_test to a 1D array\n",
    "y_test_array = np.array([x.is_laundering for x in test_df.collect()])\n",
    "y_t_array = np.array(y_t)\n",
    "\n",
    "# Concatenate the arrays into a single 1D array\n",
    "y_test_combined = np.concatenate((y_test_array, y_t_array), axis=0)\n"
   ]
  },
  {
   "cell_type": "code",
   "execution_count": 11,
   "metadata": {},
   "outputs": [],
   "source": [
    "#X_test = list(np.array([list(x.asDict().values()) for x in list(test_df.drop(\"is_laundering\").collect())])) + list(x_t)\n",
    "#y_test =  list(np.array([list(x.asDict().values()) for x in list(test_df.select(\"is_laundering\").collect())])) + list(y_t) 0.7972554504228367"
   ]
  },
  {
   "cell_type": "code",
   "execution_count": 12,
   "metadata": {},
   "outputs": [
    {
     "name": "stdout",
     "output_type": "stream",
     "text": [
      "{'accuracy': 0.765281187574915, 'recall': 0.0014169748384195654, 'precision': 0.9398998330550918, 'f1_score': 0.0028296837003349883, 'roc_auc': 0.5006945684692554}\n"
     ]
    }
   ],
   "source": [
    "print(clf.score(X_test_combined, y_test_combined))\n",
    "y_pred = clf.predict(X_test_combined)"
   ]
  },
  {
   "cell_type": "code",
   "execution_count": 13,
   "metadata": {},
   "outputs": [
    {
     "data": {
      "image/png": "[encoded data removed]",
      "text/plain": [
       "<Figure size 640x480 with 2 Axes>"
      ]
     },
     "metadata": {},
     "output_type": "display_data"
    }
   ],
   "source": [
    "import matplotlib.pyplot as plt\n",
    "from sklearn.metrics import confusion_matrix\n",
    "\n",
    "# Calcola la matrice di confusione\n",
    "cm = confusion_matrix(y_test_combined, y_pred)\n",
    "\n",
    "# Etichette delle classi (sostituisci con i tuoi nomi di classi reali se necessario)\n",
    "class_names = ['0', '1']\n",
    "\n",
    "# Crea il grafico della matrice di confusione\n",
    "plt.imshow(cm, interpolation='nearest', cmap=plt.cm.Blues)\n",
    "plt.title('Matrice di Confusione')\n",
    "plt.colorbar()\n",
    "\n",
    "tick_marks = np.arange(len(class_names))\n",
    "plt.xticks(tick_marks, class_names, rotation=45)\n",
    "plt.yticks(tick_marks, class_names)\n",
    "\n",
    "# Aggiungi i valori delle celle nella matrice\n",
    "thresh = cm.max() / 2.0\n",
    "for i in range(cm.shape[0]):\n",
    "    for j in range(cm.shape[1]):\n",
    "        plt.text(j, i, format(cm[i, j], 'd'),\n",
    "                 horizontalalignment=\"center\",\n",
    "                 color=\"white\" if cm[i, j] > thresh else \"black\")\n",
    "\n",
    "plt.xlabel('Classe Predetta')\n",
    "plt.ylabel('Classe Reale')\n",
    "plt.tight_layout()\n",
    "plt.show()"
   ]
  },
  {
   "cell_type": "markdown",
   "metadata": {},
   "source": [
    "# COSTRUCTION OF THE TREE CLASSIFIER OPTIMIZED"
   ]
  },
  {
   "cell_type": "code",
   "execution_count": 17,
   "metadata": {},
   "outputs": [],
   "source": [
    "from sklearn.datasets import load_breast_cancer\n",
    "from sklearn.tree import DecisionTreeClassifier\n",
    "from DecisionTreeClassifier import DTC\n",
    "from DC import DecisionTree as dc\n",
    "data = load_breast_cancer(as_frame=False)"
   ]
  },
  {
   "cell_type": "code",
   "execution_count": 18,
   "metadata": {},
   "outputs": [],
   "source": [
    "from sklearn.model_selection import train_test_split\n",
    "X_train, X_test, y_train, y_test = train_test_split(data['data'], data['target'], test_size=0.2)"
   ]
  },
  {
   "cell_type": "code",
   "execution_count": 24,
   "metadata": {},
   "outputs": [],
   "source": [
    "n_samples = len(y_train)\n",
    "n_positives = sum(y_train)\n",
    "n_negatives = n_samples - n_positives\n",
    "\n",
    "class_weight = {0: n_samples / (2 * n_negatives), 1: n_samples / (2 * n_positives)}\n",
    "\"\"\"\n",
    "{'accuracy': 0.8859649122807017,\n",
    " 'recall': 0.9402985074626866,\n",
    " 'precision': 0.875,\n",
    " 'f1_score': 0.9064748201438849,\n",
    " 'roc_auc': 0.8744045728802795}\"\"\""
   ]
  },
  {
   "cell_type": "code",
   "execution_count": 27,
   "metadata": {},
   "outputs": [
    {
     "data": {
      "text/plain": [
       "{'accuracy': 0.8859649122807017,\n",
       " 'recall': 0.9402985074626866,\n",
       " 'precision': 0.875,\n",
       " 'f1_score': 0.9064748201438849,\n",
       " 'roc_auc': 0.8744045728802795}"
      ]
     },
     "execution_count": 27,
     "metadata": {},
     "output_type": "execute_result"
    }
   ],
   "source": [
    "clf = DTC(criterion='gini', class_weights = class_weight)\n",
    "clf.fit(X_train, y_train)\n",
    "clf.score(X_test, y_test)"
   ]
  }
 ],
 "metadata": {
  "kernelspec": {
   "display_name": "spark_env",
   "language": "python",
   "name": "python3"
  },
  "language_info": {
   "codemirror_mode": {
    "name": "ipython",
    "version": 3
   },
   "file_extension": ".py",
   "mimetype": "text/x-python",
   "name": "python",
   "nbconvert_exporter": "python",
   "pygments_lexer": "ipython3",
   "version": "3.10.12"
  },
  "orig_nbformat": 4
 },
 "nbformat": 4,
 "nbformat_minor": 2
}
