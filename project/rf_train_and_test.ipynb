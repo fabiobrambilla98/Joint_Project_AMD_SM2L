{
 "cells": [
  {
   "cell_type": "code",
   "execution_count": 1,
   "metadata": {},
   "outputs": [],
   "source": [
    "from DecisionTreeClassifier import DTC\n",
    "import pandas as pd\n",
    "import numpy as np\n",
    "from collections import Counter\n",
    "from pyspark.sql.functions import *\n",
    "from pyspark.sql import SparkSession\n",
    "from pyspark import SparkContext\n",
    "from pyspark.sql.types import *\n",
    "import multiprocessing\n",
    "spark_driver_memory = \"10g\"\n",
    "spark_executor_memory = \"6g\""
   ]
  },
  {
   "cell_type": "code",
   "execution_count": 2,
   "metadata": {},
   "outputs": [],
   "source": [
    "class RandomForest():\n",
    "    def __init__(self, n_estimators = 100, features_col = \"feature\", label_col = \"label\", criterion = \"gini\", max_depth = None, max_features = \"sqrt\", bootstrap = False, random_state = None, max_thresholds = None, verbose = 0):\n",
    "        self.n_estimators = n_estimators\n",
    "        self.criterion = criterion\n",
    "        self.max_depth = max_depth\n",
    "        self.max_features = max_features\n",
    "        self.bootstrap = bootstrap\n",
    "        self.random_state = random_state\n",
    "        self.verbose = verbose\n",
    "        self.trained_trees = []\n",
    "        self.features_col = features_col\n",
    "        self.label_col = label_col\n",
    "        self.max_thresholds = max_thresholds \n",
    "\n",
    "        if self.random_state is not None:\n",
    "            self.random_generator = np.random.RandomState(self.random_state)\n",
    "        else:\n",
    "            self.random_generator = None\n",
    "\n",
    "    def __create_tree(self, partition_id, iterator):\n",
    "        data = list(iterator)\n",
    "        columns = list(data[0].__dict__.items())[0][1]\n",
    "        df = pd.DataFrame(data, columns=columns).drop('id', axis=1)\n",
    "        label_array = np.array(df[self.label_col])\n",
    "\n",
    "        if self.random_generator:\n",
    "            tree_random_state = self.random_state + partition_id\n",
    "        else:\n",
    "            tree_random_state = None\n",
    "\n",
    "        clf = DTC(max_depth=self.max_depth, criterion=self.criterion, max_features=self.max_features,\n",
    "                  random_state=tree_random_state, max_thresholds=self.max_thresholds,\n",
    "                  class_weights={0: 1, 1: 1 / (np.sum(label_array) / len(label_array))})\n",
    "\n",
    "        clf.fit(np.array([x.toArray().tolist() for x in np.array(df[self.features_col])]), label_array)\n",
    "\n",
    "        yield clf\n",
    "\n",
    "\n",
    "    def fit(self, X):\n",
    "        df = X.select(self.label_col, self.features_col)\n",
    "        \n",
    "        df_train = df\n",
    "\n",
    "        if(self.bootstrap):\n",
    "            df_train = df_train.sample(withReplacement=True, fraction=1.0, seed=self.random_state)    \n",
    "        \n",
    "        \n",
    "        \n",
    "        df = df_train.withColumn(\"id\", monotonically_increasing_id())   \n",
    "\n",
    "        df = df.repartition(self.n_estimators, \"id\")\n",
    "\n",
    "        models = df.rdd.mapPartitionsWithIndex(self.__create_tree)\n",
    "        self.trained_trees = models.collect()\n",
    "\n",
    "    def __predict(self, index, iterator):\n",
    "        data = list(iterator)\n",
    "        columns = list(data[0].__dict__.items())[0][1]\n",
    "        df = pd.DataFrame(data, columns=columns)\n",
    "        predictions = []\n",
    "        ids_table = np.array(df['id'])\n",
    "        for model in self.trained_trees:\n",
    "            predictions.append(model.predict(np.array(df.iloc[:,:-1])))\n",
    "        \n",
    "        n = len(predictions[0])\n",
    "\n",
    "        most_frequent = []\n",
    "\n",
    "        # iterate over the positions in the arrays\n",
    "        for i in range(n):\n",
    "            # create a list of values at position i\n",
    "            values = [a[i] for a in predictions]\n",
    "            # count the frequency of each value\n",
    "            counter = Counter(values)\n",
    "            # get the most common value and its frequency\n",
    "            most_common = counter.most_common(1)[0]\n",
    "            # add the most common value to the new array\n",
    "            most_frequent.append(most_common[0])\n",
    "\n",
    "        returning = list(zip(ids_table, most_frequent))\n",
    "\n",
    "        \n",
    "        yield returning\n",
    "\n",
    "    def predict(self, X):\n",
    "        df = X.withColumn(\"id\", monotonically_increasing_id()).repartition(self.n_estimators, \"id\")\n",
    "        models = df.rdd.mapPartitionsWithIndex(lambda index, iterator: self.__predict(index, iterator))\n",
    "        collapsed_list = []\n",
    "        for sublist in models.collect():\n",
    "            collapsed_list.extend(sublist)\n",
    "        sorted_list = [x[1] for x in sorted(collapsed_list, key=lambda x: x[0])]\n",
    "        return sorted_list"
   ]
  },
  {
   "cell_type": "code",
   "execution_count": 3,
   "metadata": {},
   "outputs": [
    {
     "name": "stderr",
     "output_type": "stream",
     "text": [
      "WARNING: An illegal reflective access operation has occurred\n",
      "WARNING: Illegal reflective access by org.apache.spark.unsafe.Platform (file:/home/fabio/spark-3.2.4-bin-hadoop3.2/jars/spark-unsafe_2.12-3.2.4.jar) to constructor java.nio.DirectByteBuffer(long,int)\n",
      "WARNING: Please consider reporting this to the maintainers of org.apache.spark.unsafe.Platform\n",
      "WARNING: Use --illegal-access=warn to enable warnings of further illegal reflective access operations\n",
      "WARNING: All illegal access operations will be denied in a future release\n",
      "Using Spark's default log4j profile: org/apache/spark/log4j-defaults.properties\n",
      "Setting default log level to \"WARN\".\n",
      "To adjust logging level use sc.setLogLevel(newLevel). For SparkR, use setLogLevel(newLevel).\n",
      "23/08/10 15:22:45 WARN NativeCodeLoader: Unable to load native-hadoop library for your platform... using builtin-java classes where applicable\n"
     ]
    }
   ],
   "source": [
    "if 'spark' in vars():\n",
    "  spark.stop()\n",
    "\n",
    "# Count available cores\n",
    "cores = multiprocessing.cpu_count()\n",
    "# In this case the amount of executors will be equal to the amount of cores\n",
    "instances = cores\n",
    "\n",
    "spark = SparkSession.builder \\\n",
    "          .appName(\"MoneyLaundering\") \\\n",
    "          .config(\"spark.driver.memory\", spark_driver_memory) \\\n",
    "          .config(\"spark.executor.memory\", spark_executor_memory) \\\n",
    "          .getOrCreate()\n",
    "\n",
    "spark.sparkContext.setLogLevel(\"OFF\")\n",
    "sc = spark.sparkContext"
   ]
  },
  {
   "cell_type": "code",
   "execution_count": null,
   "metadata": {},
   "outputs": [],
   "source": [
    "schema = StructType([\n",
    "    StructField('timestamp', StringType(), True),\n",
    "    StructField('from_bank', IntegerType(), True),\n",
    "    StructField('from_account', StringType(), True),\n",
    "    StructField('to_bank', IntegerType(), True),\n",
    "    StructField('to_account', StringType(), True),\n",
    "    StructField('amount_received', FloatType(), True),\n",
    "    StructField('receiving_currency', StringType(), True),\n",
    "    StructField('amount_paid', FloatType(), True),\n",
    "    StructField('payment_currency', StringType(), True),\n",
    "    StructField('payment_format', StringType(), True),\n",
    "    StructField('is_laundering', IntegerType(), True)])\n",
    "\n",
    "\n",
    "\n",
    "spark_df = spark.read.csv(\"./preprocessed_data/preprocessed_data_small.csv\", header = True)\n",
    "spark_df = spark_df.drop('timestamp')\n",
    "columns_to_cast = spark_df.columns\n",
    "\n",
    "for column in columns_to_cast:\n",
    "    spark_df = spark_df.withColumn(column, col(column).cast(\"integer\"))\n"
   ]
  },
  {
   "cell_type": "code",
   "execution_count": null,
   "metadata": {},
   "outputs": [],
   "source": [
    "spark_df = spark_df.fillna(0)"
   ]
  },
  {
   "cell_type": "code",
   "execution_count": null,
   "metadata": {},
   "outputs": [],
   "source": [
    "# Split the DataFrame into train and test sets\n",
    "train_df, test_df = spark_df.randomSplit([0.7, 0.3], seed=42)"
   ]
  },
  {
   "cell_type": "code",
   "execution_count": null,
   "metadata": {},
   "outputs": [],
   "source": [
    "validation_df = spark.read.parquet('./preprocessed_data/df.validation')\n",
    "validation_df.show()"
   ]
  },
  {
   "cell_type": "code",
   "execution_count": null,
   "metadata": {},
   "outputs": [],
   "source": [
    "train_df.show()"
   ]
  },
  {
   "cell_type": "code",
   "execution_count": 48,
   "metadata": {},
   "outputs": [],
   "source": [
    "train_df = spark.read.parquet('./preprocessed_data/train_small')\n",
    "train_df = train_df.drop('avg_previous_amount').drop('amount_variation')\n",
    "test_df = spark.read.parquet('./preprocessed_data/test_small')\n",
    "test_df = test_df.drop('avg_previous_amount').drop('amount_variation')"
   ]
  },
  {
   "cell_type": "code",
   "execution_count": 49,
   "metadata": {},
   "outputs": [
    {
     "name": "stdout",
     "output_type": "stream",
     "text": [
      "+---+----+------+----------------------------+-----------------------------+-------------------------------+------------------------+-------------------------+---------------------------+------------------------------+-----------------------------------+------------------------------------+------------------+----------------+--------------+------------+---------+-------------+-----------+-------------+\n",
      "|day|hour|minute|transaction_received_per_day|transaction_received_per_hour|transaction_received_per_minute|transaction_send_per_day|transaction_send_per_hour|transaction_send_per_minute|minutes_since_last_transaction|num_unique_payment_formats_last_day|num_unique_payment_currency_last_day|receiving_currency|payment_currency|payment_format|same_account|same_bank|same_currency|same_amount|is_laundering|\n",
      "+---+----+------+----------------------------+-----------------------------+-------------------------------+------------------------+-------------------------+---------------------------+------------------------------+-----------------------------------+------------------------------------+------------------+----------------+--------------+------------+---------+-------------+-----------+-------------+\n",
      "|  1|   0|    19|                           4|                            2|                              1|                       2|                        1|                          1|                          -1.0|                                  1|                                   1|                 0|               0|             1|           1|        1|            1|          1|            0|\n",
      "|  1|  16|     2|                           4|                            1|                              1|                       2|                        1|                          1|                         943.0|                                  1|                                   1|                 0|               0|             1|           1|        1|            1|          1|            0|\n",
      "|  2|  22|    32|                           6|                            3|                              1|                       3|                        3|                          1|                        1830.0|                                  1|                                   1|                 0|               0|             5|           0|        0|            1|          1|            0|\n",
      "|  2|  22|    39|                           6|                            3|                              1|                       3|                        3|                          1|                           7.0|                                  2|                                   1|                 0|               0|             6|           0|        0|            1|          1|            0|\n",
      "|  2|  22|    54|                           6|                            3|                              1|                       3|                        3|                          1|                          15.0|                                  3|                                   1|                 0|               0|             4|           0|        0|            1|          1|            0|\n",
      "|  1|   0|     7|                           7|                            6|                              2|                      16|                        6|                          1|                          -1.0|                                  1|                                   1|                13|              13|             2|           0|        0|            1|          1|            0|\n",
      "|  1|   0|     9|                           7|                            6|                              1|                      16|                        6|                          1|                           2.0|                                  2|                                   1|                13|              13|             6|           0|        0|            1|          1|            0|\n",
      "|  1|   0|    21|                           7|                            6|                              1|                      16|                        6|                          1|                          12.0|                                  3|                                   1|                13|              13|             0|           0|        0|            1|          1|            0|\n",
      "|  1|   0|    28|                           5|                            1|                              2|                      16|                        6|                          5|                           7.0|                                  4|                                   1|                13|              13|             1|           1|        1|            1|          1|            0|\n",
      "|  1|   5|    24|                           5|                            1|                              1|                      16|                        3|                          1|                         296.0|                                  4|                                   1|                13|              13|             2|           1|        1|            1|          1|            0|\n",
      "|  1|   7|     5|                           7|                            2|                              1|                      16|                        2|                          3|                         101.0|                                  4|                                   1|                13|              13|             2|           0|        0|            1|          1|            0|\n",
      "|  1|   7|    25|                           7|                            2|                              1|                      16|                        2|                          1|                          20.0|                                  4|                                   1|                13|              13|             6|           0|        0|            1|          1|            0|\n",
      "|  1|   9|     3|                           3|                            2|                              1|                      16|                       10|                          1|                          98.0|                                  4|                                   1|                13|              13|             2|           0|        1|            1|          1|            0|\n",
      "|  1|   9|    27|                           3|                            2|                              1|                      16|                       10|                          2|                          24.0|                                  5|                                   1|                13|              13|             5|           0|        1|            1|          1|            0|\n",
      "|  1|  11|    13|                           2|                            2|                              1|                      16|                        5|                          4|                         106.0|                                  5|                                   1|                13|              13|             2|           0|        0|            1|          1|            0|\n",
      "|  1|  11|    27|                           2|                            2|                              1|                      16|                        5|                          2|                          14.0|                                  5|                                   1|                13|              13|             6|           0|        0|            1|          1|            0|\n",
      "|  1|  12|    13|                           5|                            3|                              2|                      16|                        3|                          4|                          46.0|                                  5|                                   1|                13|              13|             6|           1|        1|            1|          1|            0|\n",
      "|  1|  12|    28|                           5|                            3|                              2|                      16|                        3|                          5|                          15.0|                                  5|                                   1|                13|              13|             2|           1|        1|            1|          1|            0|\n",
      "|  1|  14|     4|                           4|                            2|                              2|                      16|                        2|                          1|                          96.0|                                  6|                                   1|                13|              13|             4|           0|        0|            1|          1|            0|\n",
      "|  1|  14|    13|                           4|                            2|                              1|                      16|                        2|                          4|                           9.0|                                  6|                                   1|                13|              13|             2|           0|        0|            1|          1|            0|\n",
      "+---+----+------+----------------------------+-----------------------------+-------------------------------+------------------------+-------------------------+---------------------------+------------------------------+-----------------------------------+------------------------------------+------------------+----------------+--------------+------------+---------+-------------+-----------+-------------+\n",
      "only showing top 20 rows\n",
      "\n"
     ]
    }
   ],
   "source": [
    "train_df.show()"
   ]
  },
  {
   "cell_type": "code",
   "execution_count": 50,
   "metadata": {},
   "outputs": [
    {
     "name": "stderr",
     "output_type": "stream",
     "text": [
      "                                                                                \r"
     ]
    }
   ],
   "source": [
    "from pyspark.ml.feature import VectorAssembler\n",
    "rf = RandomForest(label_col=\"is_laundering\", features_col=\"features\", bootstrap=True, max_depth=25, max_thresholds=10, criterion='gini', max_features='log2', n_estimators=12, random_state = 0)\n",
    "assembler = VectorAssembler(inputCols=train_df.drop(\"is_laundering\").columns, outputCol=\"features\")\n",
    "train = assembler.transform(train_df)\n",
    "test = assembler.transform(test_df)\n",
    "rf.fit(train)"
   ]
  },
  {
   "cell_type": "code",
   "execution_count": 51,
   "metadata": {},
   "outputs": [],
   "source": [
    "rf.n_estimators = 100"
   ]
  },
  {
   "cell_type": "code",
   "execution_count": 52,
   "metadata": {},
   "outputs": [
    {
     "name": "stderr",
     "output_type": "stream",
     "text": [
      "                                                                                \r"
     ]
    }
   ],
   "source": [
    "y_pred = rf.predict(test_df.drop(\"is_laundering\"))"
   ]
  },
  {
   "cell_type": "code",
   "execution_count": 53,
   "metadata": {},
   "outputs": [],
   "source": [
    "y_test=np.array(test.select('is_laundering').collect()).squeeze()"
   ]
  },
  {
   "cell_type": "code",
   "execution_count": 54,
   "metadata": {},
   "outputs": [
    {
     "data": {
      "image/png": "[encoded data removed]",
      "text/plain": [
       "<Figure size 640x480 with 2 Axes>"
      ]
     },
     "metadata": {},
     "output_type": "display_data"
    }
   ],
   "source": [
    "import matplotlib.pyplot as plt\n",
    "from sklearn.metrics import confusion_matrix\n",
    "\n",
    "# Calcola la matrice di confusione\n",
    "cm = confusion_matrix(y_test, y_pred)\n",
    "\n",
    "# Etichette delle classi (sostituisci con i tuoi nomi di classi reali se necessario)\n",
    "class_names = ['0', '1']\n",
    "\n",
    "# Crea il grafico della matrice di confusione\n",
    "plt.imshow(cm, interpolation='nearest', cmap=plt.cm.Blues)\n",
    "plt.title('Matrice di Confusione')\n",
    "plt.colorbar()\n",
    "\n",
    "tick_marks = np.arange(len(class_names))\n",
    "plt.xticks(tick_marks, class_names, rotation=45)\n",
    "plt.yticks(tick_marks, class_names)\n",
    "\n",
    "# Aggiungi i valori delle celle nella matrice\n",
    "thresh = cm.max() / 2.0\n",
    "for i in range(cm.shape[0]):\n",
    "    for j in range(cm.shape[1]):\n",
    "        plt.text(j, i, format(cm[i, j], 'd'),\n",
    "                 horizontalalignment=\"center\",\n",
    "                 color=\"white\" if cm[i, j] > thresh else \"black\")\n",
    "\n",
    "plt.xlabel('Classe Predetta')\n",
    "plt.ylabel('Classe Reale')\n",
    "plt.tight_layout()\n",
    "plt.show()\n"
   ]
  }
 ],
 "metadata": {
  "kernelspec": {
   "display_name": "spark_env",
   "language": "python",
   "name": "python3"
  },
  "language_info": {
   "codemirror_mode": {
    "name": "ipython",
    "version": 3
   },
   "file_extension": ".py",
   "mimetype": "text/x-python",
   "name": "python",
   "nbconvert_exporter": "python",
   "pygments_lexer": "ipython3",
   "version": "3.10.12"
  },
  "orig_nbformat": 4
 },
 "nbformat": 4,
 "nbformat_minor": 2
}
