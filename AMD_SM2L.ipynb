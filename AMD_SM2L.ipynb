{
  "cells": [
    {
      "cell_type": "markdown",
      "metadata": {
        "id": "GF0l29DGixyU"
      },
      "source": [
        "# Algorithms for massive datasets & Statistical methods for ML: Joint Project 2022-23"
      ]
    },
    {
      "cell_type": "markdown",
      "metadata": {
        "id": "U-m3YlGEixyX"
      },
      "source": [
        "This notebook serves as the primary document for the joint project combining the subjects of \"Algorithms for massive datasets\" and \"Statistical methods for ML\" for the academic year 2022-23.\n",
        "\n",
        "The core objective of this project is to delve deep into the domain of transaction analysis, especially focusing on the identification of money laundering activities. The dataset in focus for this project is the \"IBM Transactions for Anti Money Laundering\" dataset, sourced from Kaggle. This dataset comprises multiple CSV files, each with varying data sizes and frequencies of illicit transactions. The challenge is to implement an efficient system capable of predicting illicit transactions."
      ]
    },
    {
      "cell_type": "markdown",
      "metadata": {
        "id": "E6CBoCRNixyX"
      },
      "source": [
        "### Disclaimer\n",
        "\n",
        "I declare that this material, which I now submit for assessment, is entirely my own work and has not been taken from the work of others, save and to the extent that such work has been cited and acknowledged within the text of my work. I understand that plagiarism, collusion, and copying are grave and serious offences in the university and accept the penalties that would be imposed should I engage in plagiarism, collusion or copying. This assignment, or any part of it, has not been previously submitted by me/us or any other person for assessment on this or any other course of study."
      ]
    },
    {
      "cell_type": "markdown",
      "metadata": {
        "id": "e4kiQXnsixyY"
      },
      "source": [
        "## API Kaggle\n",
        "\n",
        "Come prima cosa è necessario scaricare il file .kaggle.json. Per ottenerlo visita il tuo profilo Kaggle e vai alla sezione [Account](https://www.kaggle.com/settings/account). Scendi fino a trovare la sezione 'API' e premi su 'Create New Token' per scaricare il file .kaggle.json.\n"
      ]
    },
    {
      "cell_type": "markdown",
      "metadata": {
        "id": "1AadRidHixyY"
      },
      "source": [
        "# Setup dell'environment\n",
        "\n",
        "Prima di iniziare a lavorare sui dati, ci sono dei passaggi da fare per ottenere l'accesso a Kaggle per scaricare i datasets."
      ]
    },
    {
      "cell_type": "markdown",
      "metadata": {
        "id": "iD-hDHVfixyY"
      },
      "source": [
        "Fatto ciò, esegui il seguente codice per caricare il file .kaggle.json:"
      ]
    },
    {
      "cell_type": "code",
      "execution_count": null,
      "metadata": {
        "colab": {
          "base_uri": "https://localhost:8080/",
          "height": 74
        },
        "id": "kOBS7Q4OixyZ",
        "outputId": "d75f5f12-0cb6-4dca-ee3c-33367491902e"
      },
      "outputs": [
        {
          "data": {
            "text/html": [
              "\n",
              "     <input type=\"file\" id=\"files-6804f33d-c9d6-48a8-a577-123c0581b1a5\" name=\"files[]\" multiple disabled\n",
              "        style=\"border:none\" />\n",
              "     <output id=\"result-6804f33d-c9d6-48a8-a577-123c0581b1a5\">\n",
              "      Upload widget is only available when the cell has been executed in the\n",
              "      current browser session. Please rerun this cell to enable.\n",
              "      </output>\n",
              "      <script>// Copyright 2017 Google LLC\n",
              "//\n",
              "// Licensed under the Apache License, Version 2.0 (the \"License\");\n",
              "// you may not use this file except in compliance with the License.\n",
              "// You may obtain a copy of the License at\n",
              "//\n",
              "//      http://www.apache.org/licenses/LICENSE-2.0\n",
              "//\n",
              "// Unless required by applicable law or agreed to in writing, software\n",
              "// distributed under the License is distributed on an \"AS IS\" BASIS,\n",
              "// WITHOUT WARRANTIES OR CONDITIONS OF ANY KIND, either express or implied.\n",
              "// See the License for the specific language governing permissions and\n",
              "// limitations under the License.\n",
              "\n",
              "/**\n",
              " * @fileoverview Helpers for google.colab Python module.\n",
              " */\n",
              "(function(scope) {\n",
              "function span(text, styleAttributes = {}) {\n",
              "  const element = document.createElement('span');\n",
              "  element.textContent = text;\n",
              "  for (const key of Object.keys(styleAttributes)) {\n",
              "    element.style[key] = styleAttributes[key];\n",
              "  }\n",
              "  return element;\n",
              "}\n",
              "\n",
              "// Max number of bytes which will be uploaded at a time.\n",
              "const MAX_PAYLOAD_SIZE = 100 * 1024;\n",
              "\n",
              "function _uploadFiles(inputId, outputId) {\n",
              "  const steps = uploadFilesStep(inputId, outputId);\n",
              "  const outputElement = document.getElementById(outputId);\n",
              "  // Cache steps on the outputElement to make it available for the next call\n",
              "  // to uploadFilesContinue from Python.\n",
              "  outputElement.steps = steps;\n",
              "\n",
              "  return _uploadFilesContinue(outputId);\n",
              "}\n",
              "\n",
              "// This is roughly an async generator (not supported in the browser yet),\n",
              "// where there are multiple asynchronous steps and the Python side is going\n",
              "// to poll for completion of each step.\n",
              "// This uses a Promise to block the python side on completion of each step,\n",
              "// then passes the result of the previous step as the input to the next step.\n",
              "function _uploadFilesContinue(outputId) {\n",
              "  const outputElement = document.getElementById(outputId);\n",
              "  const steps = outputElement.steps;\n",
              "\n",
              "  const next = steps.next(outputElement.lastPromiseValue);\n",
              "  return Promise.resolve(next.value.promise).then((value) => {\n",
              "    // Cache the last promise value to make it available to the next\n",
              "    // step of the generator.\n",
              "    outputElement.lastPromiseValue = value;\n",
              "    return next.value.response;\n",
              "  });\n",
              "}\n",
              "\n",
              "/**\n",
              " * Generator function which is called between each async step of the upload\n",
              " * process.\n",
              " * @param {string} inputId Element ID of the input file picker element.\n",
              " * @param {string} outputId Element ID of the output display.\n",
              " * @return {!Iterable<!Object>} Iterable of next steps.\n",
              " */\n",
              "function* uploadFilesStep(inputId, outputId) {\n",
              "  const inputElement = document.getElementById(inputId);\n",
              "  inputElement.disabled = false;\n",
              "\n",
              "  const outputElement = document.getElementById(outputId);\n",
              "  outputElement.innerHTML = '';\n",
              "\n",
              "  const pickedPromise = new Promise((resolve) => {\n",
              "    inputElement.addEventListener('change', (e) => {\n",
              "      resolve(e.target.files);\n",
              "    });\n",
              "  });\n",
              "\n",
              "  const cancel = document.createElement('button');\n",
              "  inputElement.parentElement.appendChild(cancel);\n",
              "  cancel.textContent = 'Cancel upload';\n",
              "  const cancelPromise = new Promise((resolve) => {\n",
              "    cancel.onclick = () => {\n",
              "      resolve(null);\n",
              "    };\n",
              "  });\n",
              "\n",
              "  // Wait for the user to pick the files.\n",
              "  const files = yield {\n",
              "    promise: Promise.race([pickedPromise, cancelPromise]),\n",
              "    response: {\n",
              "      action: 'starting',\n",
              "    }\n",
              "  };\n",
              "\n",
              "  cancel.remove();\n",
              "\n",
              "  // Disable the input element since further picks are not allowed.\n",
              "  inputElement.disabled = true;\n",
              "\n",
              "  if (!files) {\n",
              "    return {\n",
              "      response: {\n",
              "        action: 'complete',\n",
              "      }\n",
              "    };\n",
              "  }\n",
              "\n",
              "  for (const file of files) {\n",
              "    const li = document.createElement('li');\n",
              "    li.append(span(file.name, {fontWeight: 'bold'}));\n",
              "    li.append(span(\n",
              "        `(${file.type || 'n/a'}) - ${file.size} bytes, ` +\n",
              "        `last modified: ${\n",
              "            file.lastModifiedDate ? file.lastModifiedDate.toLocaleDateString() :\n",
              "                                    'n/a'} - `));\n",
              "    const percent = span('0% done');\n",
              "    li.appendChild(percent);\n",
              "\n",
              "    outputElement.appendChild(li);\n",
              "\n",
              "    const fileDataPromise = new Promise((resolve) => {\n",
              "      const reader = new FileReader();\n",
              "      reader.onload = (e) => {\n",
              "        resolve(e.target.result);\n",
              "      };\n",
              "      reader.readAsArrayBuffer(file);\n",
              "    });\n",
              "    // Wait for the data to be ready.\n",
              "    let fileData = yield {\n",
              "      promise: fileDataPromise,\n",
              "      response: {\n",
              "        action: 'continue',\n",
              "      }\n",
              "    };\n",
              "\n",
              "    // Use a chunked sending to avoid message size limits. See b/62115660.\n",
              "    let position = 0;\n",
              "    do {\n",
              "      const length = Math.min(fileData.byteLength - position, MAX_PAYLOAD_SIZE);\n",
              "      const chunk = new Uint8Array(fileData, position, length);\n",
              "      position += length;\n",
              "\n",
              "      const base64 = btoa(String.fromCharCode.apply(null, chunk));\n",
              "      yield {\n",
              "        response: {\n",
              "          action: 'append',\n",
              "          file: file.name,\n",
              "          data: base64,\n",
              "        },\n",
              "      };\n",
              "\n",
              "      let percentDone = fileData.byteLength === 0 ?\n",
              "          100 :\n",
              "          Math.round((position / fileData.byteLength) * 100);\n",
              "      percent.textContent = `${percentDone}% done`;\n",
              "\n",
              "    } while (position < fileData.byteLength);\n",
              "  }\n",
              "\n",
              "  // All done.\n",
              "  yield {\n",
              "    response: {\n",
              "      action: 'complete',\n",
              "    }\n",
              "  };\n",
              "}\n",
              "\n",
              "scope.google = scope.google || {};\n",
              "scope.google.colab = scope.google.colab || {};\n",
              "scope.google.colab._files = {\n",
              "  _uploadFiles,\n",
              "  _uploadFilesContinue,\n",
              "};\n",
              "})(self);\n",
              "</script> "
            ],
            "text/plain": [
              "<IPython.core.display.HTML object>"
            ]
          },
          "metadata": {},
          "output_type": "display_data"
        },
        {
          "name": "stdout",
          "output_type": "stream",
          "text": [
            "Saving kaggle.json to kaggle.json\n"
          ]
        }
      ],
      "source": [
        "from google.colab import files\n",
        "files.upload()  # This will prompt you to upload the kaggle.json\n",
        "\n",
        "!mkdir -p ~/.kaggle\n",
        "!cp kaggle.json ~/.kaggle/\n",
        "!chmod 600 ~/.kaggle/kaggle.json  # Change the permissions of the file."
      ]
    },
    {
      "cell_type": "markdown",
      "metadata": {
        "id": "oOBryJsQixya"
      },
      "source": [
        "## Download e unzip dei datasets\n",
        "\n",
        "A questo punto è possibile andare a scaricare i dataset direttamente nell'ambiente Colab. I file verranno salvati in una cartella creata appositamente."
      ]
    },
    {
      "cell_type": "code",
      "execution_count": null,
      "metadata": {
        "colab": {
          "base_uri": "https://localhost:8080/"
        },
        "id": "pQCywbMtixya",
        "outputId": "ab3c56cc-f881-4c22-f5c4-fca1cd868d3c"
      },
      "outputs": [
        {
          "name": "stdout",
          "output_type": "stream",
          "text": [
            "Requirement already satisfied: kaggle in /usr/local/lib/python3.10/dist-packages (1.5.16)\n",
            "Requirement already satisfied: six>=1.10 in /usr/local/lib/python3.10/dist-packages (from kaggle) (1.16.0)\n",
            "Requirement already satisfied: certifi in /usr/local/lib/python3.10/dist-packages (from kaggle) (2023.7.22)\n",
            "Requirement already satisfied: python-dateutil in /usr/local/lib/python3.10/dist-packages (from kaggle) (2.8.2)\n",
            "Requirement already satisfied: requests in /usr/local/lib/python3.10/dist-packages (from kaggle) (2.31.0)\n",
            "Requirement already satisfied: tqdm in /usr/local/lib/python3.10/dist-packages (from kaggle) (4.66.1)\n",
            "Requirement already satisfied: python-slugify in /usr/local/lib/python3.10/dist-packages (from kaggle) (8.0.1)\n",
            "Requirement already satisfied: urllib3 in /usr/local/lib/python3.10/dist-packages (from kaggle) (2.0.4)\n",
            "Requirement already satisfied: bleach in /usr/local/lib/python3.10/dist-packages (from kaggle) (6.0.0)\n",
            "Requirement already satisfied: webencodings in /usr/local/lib/python3.10/dist-packages (from bleach->kaggle) (0.5.1)\n",
            "Requirement already satisfied: text-unidecode>=1.3 in /usr/local/lib/python3.10/dist-packages (from python-slugify->kaggle) (1.3)\n",
            "Requirement already satisfied: charset-normalizer<4,>=2 in /usr/local/lib/python3.10/dist-packages (from requests->kaggle) (3.2.0)\n",
            "Requirement already satisfied: idna<4,>=2.5 in /usr/local/lib/python3.10/dist-packages (from requests->kaggle) (3.4)\n",
            "Downloading ibm-transactions-for-anti-money-laundering-aml.zip to datasets\n",
            "100% 7.40G/7.42G [01:24<00:00, 125MB/s]\n",
            "100% 7.42G/7.42G [01:24<00:00, 94.4MB/s]\n",
            "/content/datasets\n",
            "Archive:  ibm-transactions-for-anti-money-laundering-aml.zip\n",
            "  inflating: HI-Large_Patterns.txt   \n",
            "  inflating: HI-Large_Trans.csv      \n",
            "  inflating: HI-Medium_Patterns.txt  \n",
            "  inflating: HI-Medium_Trans.csv     \n",
            "  inflating: HI-Small_Patterns.txt   \n",
            "  inflating: HI-Small_Trans.csv      \n",
            "  inflating: LI-Large_Patterns.txt   \n",
            "  inflating: LI-Large_Trans.csv      \n",
            "  inflating: LI-Medium_Patterns.txt  \n",
            "  inflating: LI-Medium_Trans.csv     \n",
            "  inflating: LI-Small_Patterns.txt   \n",
            "  inflating: LI-Small_Trans.csv      \n",
            "/content\n"
          ]
        }
      ],
      "source": [
        "# Creazione della cartella\n",
        "!mkdir -p datasets\n",
        "\n",
        "# Installa le librerie necessarie per kaggle\n",
        "!pip install kaggle\n",
        "\n",
        "# Scarica il dataset\n",
        "!kaggle datasets download -d ealtman2019/ibm-transactions-for-anti-money-laundering-aml -p datasets/\n",
        "\n",
        "# Estrai il dataset zippato\n",
        "%cd datasets\n",
        "!unzip ibm-transactions-for-anti-money-laundering-aml.zip\n",
        "\n",
        "# Elimina lo zip\n",
        "!rm ibm-transactions-for-anti-money-laundering-aml.zip\n",
        "%cd .."
      ]
    },
    {
      "cell_type": "markdown",
      "metadata": {
        "id": "0kYYY-3Wixya"
      },
      "source": [
        "## Installazione e importazione delle librerie principali\n",
        "\n",
        "Uno dei due punti principali del progetto è quello di andare ad utilizzare spark per creare un random forest costituito da alberi creati su diversi worker. Oltre che per il random forest però, andremo ad utilizzare spark anche per gestire tutta la parte di analisi e rilevazione delle features all'interno dei dati."
      ]
    },
    {
      "cell_type": "code",
      "execution_count": 1,
      "metadata": {
        "colab": {
          "base_uri": "https://localhost:8080/"
        },
        "id": "fBaXcEYwixyb",
        "outputId": "7a74d91e-59e3-4a9a-9298-b1cebcdd9705"
      },
      "outputs": [],
      "source": [
        "!pip install pyspark\n",
        "\n",
        "from pyspark.sql import SparkSession\n",
        "\n",
        "import pandas as pd\n",
        "import numpy as np\n",
        "import tqdm\n",
        "from pyspark.sql.window import Window\n",
        "from sklearn.preprocessing import LabelEncoder\n",
        "from pyspark.sql.functions import *\n",
        "from pyspark.sql import SparkSession\n",
        "from pyspark import SparkContext\n",
        "from pyspark.sql.types import *\n",
        "import multiprocessing\n",
        "from pyspark.ml.feature import StringIndexer\n",
        "from pyspark.ml.feature import VectorAssembler\n",
        "from pyspark.ml.stat import Correlation\n",
        "import seaborn as sns\n",
        "import matplotlib.pyplot as plt\n",
        "from pyspark.sql import functions as F\n",
        "import os\n",
        "import shutil\n",
        "from collections import Counter\n",
        "import math\n",
        "from sklearn.metrics import f1_score\n",
        "import gc"
      ]
    },
    {
      "cell_type": "markdown",
      "metadata": {
        "id": "mRuZObp4ixyb"
      },
      "source": [
        "### Configurazione spark\n",
        "\n",
        "Per funzionare al meglio spark necessita di avere a disposizione più memoria e potenza di calcolo possibile. Per questo motivo è necessario andare a configurare i parametri manualmente per far si che possa sfruttare a pieno la potenza di calcolo della macchina su cui gira.\n",
        "\n",
        "Per l'esecuzione su colab sono stati utilizzati questi valori:\n",
        "\n",
        "**Spark Driver Memory:** 6g\n",
        "\n",
        "**Spark Executor Memory:** 4g"
      ]
    },
    {
      "cell_type": "code",
      "execution_count": 4,
      "metadata": {
        "colab": {
          "base_uri": "https://localhost:8080/"
        },
        "id": "JcByqn_rixyb",
        "outputId": "9bf6abda-4ad1-4caf-f9fc-49a8a644d60e"
      },
      "outputs": [
        {
          "name": "stdout",
          "output_type": "stream",
          "text": [
            "Spark session created\n",
            "Spark context created\n"
          ]
        }
      ],
      "source": [
        "spark_driver_memory = \"3g\"\n",
        "spark_executor_memory = \"4g\"\n",
        "spark_partial_results_folder = './partial_results'\n",
        "spark_processed_results_folder = './processed_data'\n",
        "\n",
        "spark = SparkSession.builder \\\n",
        "                    .config(\"spark.driver.memory\", spark_driver_memory) \\\n",
        "                    .config(\"spark.executor.memory\", spark_executor_memory) \\\n",
        "                    .master(\"local[*]\") \\\n",
        "                    .config(\"spark.sql.autoBroadcastJoinThreshold\", 100 * 1024 * 1024)\\\n",
        "                    .config(\"spark.driver.port\", 4040) \\\n",
        "                    .config(\"spark.driver.bindAddress\", \"127.0.0.1\") \\\n",
        "                    .getOrCreate()\n",
        "print(\"Spark session created\")\n",
        "sc = spark.sparkContext\n",
        "print(\"Spark context created\")\n",
        "\n",
        "\n",
        "if not os.path.exists(spark_partial_results_folder):\n",
        "    os.makedirs(spark_partial_results_folder)\n",
        "if not os.path.exists(spark_processed_results_folder):\n",
        "    os.makedirs(spark_processed_results_folder)"
      ]
    },
    {
      "cell_type": "code",
      "execution_count": 3,
      "metadata": {
        "id": "nICBNo6Xixyb"
      },
      "outputs": [],
      "source": [
        "skip_boruta = False\n",
        "skip_hyperparameter_tuning = False\n",
        "df_type = 'small'"
      ]
    },
    {
      "cell_type": "code",
      "execution_count": 5,
      "metadata": {
        "id": "JVG2TS80ixyb"
      },
      "outputs": [],
      "source": [
        "def skip_cell_if(condition):\n",
        "    \"\"\"Skip execution of the current cell if condition is True.\"\"\"\n",
        "    if condition:\n",
        "        get_ipython().run_cell_magic('javascript', '', 'IPython.notebook.execute_cell()')\n",
        "\n",
        "get_ipython().register_magic_function(skip_cell_if, magic_kind='line')"
      ]
    },
    {
      "cell_type": "markdown",
      "metadata": {
        "id": "kvUI1SYbixyc"
      },
      "source": [
        "# Exploratory data analysis\n",
        "\n",
        "Il file zip scaricato da Kaggle contiene tre dataset distinti divisi in Short, Medium e Large size. Per ogni dimensione sono presenti due versioni, una con la dicitura HI e una con la dicitura LI le quali indicano un'alta e una bassa presenza di transazioni fraudolente rispettivamente.\n",
        "\n",
        "Oltre ai dataset sono presenti anche dei file .txt aggiuntivi che mostrano i pattern fraudolenti con le relative transazioni all'interno dei dataset. I pattern che vengono mostrati sono spiegati in maniera più approfondita in questo [paper](https://arxiv.org/pdf/2306.16424.pdf) e sono 8:\n",
        "\n",
        "*   Cicli\n",
        "*   Fan-In\n",
        "*   Fan-Out\n",
        "*   Scatter-Gather\n",
        "*   Gather-Scatter\n",
        "*   Bipartite\n",
        "*   Stack\n",
        "*   Random\n",
        "\n",
        "Per svolgere le analisi sui dati è stato utilizzato il dataset HI-Small che, grazie alla sua dimensione ridotta, permette di eseguire analisi e statistiche in minor tempo, considerando anche le statistiche hardware limitate.\n",
        "\n"
      ]
    },
    {
      "cell_type": "markdown",
      "metadata": {
        "id": "dBJRW_BMixyc"
      },
      "source": [
        "## Load data"
      ]
    },
    {
      "cell_type": "code",
      "execution_count": 8,
      "metadata": {
        "colab": {
          "base_uri": "https://localhost:8080/"
        },
        "id": "hKIYZcI8ixyc",
        "outputId": "cbe475bb-3f2b-4232-e029-d1801078a6de"
      },
      "outputs": [
        {
          "name": "stdout",
          "output_type": "stream",
          "text": [
            "+----------------+---------+------------+-------+----------+---------------+------------------+-----------+----------------+--------------+-------------+-----+\n",
            "|timestamp       |from_bank|from_account|to_bank|to_account|amount_received|receiving_currency|amount_paid|payment_currency|payment_format|is_laundering|index|\n",
            "+----------------+---------+------------+-------+----------+---------------+------------------+-----------+----------------+--------------+-------------+-----+\n",
            "|2022/09/01 00:20|10       |8000EBD30   |10     |8000EBD30 |3697.34        |US Dollar         |3697.34    |US Dollar       |Reinvestment  |0            |0    |\n",
            "|2022/09/01 00:20|3208     |8000F4580   |1      |8000F5340 |0.01           |US Dollar         |0.01       |US Dollar       |Cheque        |0            |1    |\n",
            "|2022/09/01 00:00|3209     |8000F4670   |3209   |8000F4670 |14675.57       |US Dollar         |14675.57   |US Dollar       |Reinvestment  |0            |2    |\n",
            "|2022/09/01 00:02|12       |8000F5030   |12     |8000F5030 |2806.97        |US Dollar         |2806.97    |US Dollar       |Reinvestment  |0            |3    |\n",
            "|2022/09/01 00:06|10       |8000F5200   |10     |8000F5200 |36682.97       |US Dollar         |36682.97   |US Dollar       |Reinvestment  |0            |4    |\n",
            "+----------------+---------+------------+-------+----------+---------------+------------------+-----------+----------------+--------------+-------------+-----+\n",
            "only showing top 5 rows\n",
            "\n",
            "root\n",
            " |-- timestamp: string (nullable = true)\n",
            " |-- from_bank: integer (nullable = true)\n",
            " |-- from_account: string (nullable = true)\n",
            " |-- to_bank: integer (nullable = true)\n",
            " |-- to_account: string (nullable = true)\n",
            " |-- amount_received: float (nullable = true)\n",
            " |-- receiving_currency: string (nullable = true)\n",
            " |-- amount_paid: float (nullable = true)\n",
            " |-- payment_currency: string (nullable = true)\n",
            " |-- payment_format: string (nullable = true)\n",
            " |-- is_laundering: integer (nullable = true)\n",
            " |-- index: long (nullable = false)\n",
            "\n"
          ]
        }
      ],
      "source": [
        "# Definition of the schema for reading the file\n",
        "schema = StructType([\n",
        "    StructField('timestamp', StringType(), True),\n",
        "    StructField('from_bank', IntegerType(), True),\n",
        "    StructField('from_account', StringType(), True),\n",
        "    StructField('to_bank', IntegerType(), True),\n",
        "    StructField('to_account', StringType(), True),\n",
        "    StructField('amount_received', FloatType(), True),\n",
        "    StructField('receiving_currency', StringType(), True),\n",
        "    StructField('amount_paid', FloatType(), True),\n",
        "    StructField('payment_currency', StringType(), True),\n",
        "    StructField('payment_format', StringType(), True),\n",
        "    StructField('is_laundering', IntegerType(), True)])\n",
        "\n",
        "# Reading the csv file directly in spark\n",
        "if df_type == 'small':\n",
        "    df = spark.read.csv(\"./datasets/HI-Small_Trans.csv\", header = False, schema=schema)\n",
        "elif df_type == 'medium':\n",
        "    df = spark.read.csv(\"./datasets/HI-Medium_Trans.csv\", header = False, schema=schema)\n",
        "\n",
        "# Removing the first row as it contains the csv header\n",
        "df = df.filter(col('timestamp') != \"Timestamp\")\n",
        "\n",
        "# Adding a unique ID for the rows.\n",
        "df = df.withColumn(\"index\", monotonically_increasing_id())\n",
        "\n",
        "df.show(5, truncate=False)\n",
        "df.printSchema()"
      ]
    },
    {
      "cell_type": "markdown",
      "metadata": {
        "id": "tajZdcw8ixyc"
      },
      "source": [
        "The data analysis will be divided into several parts:\n",
        "Initially, an analysis will be conducted independently of the temporal order, focusing mainly on understanding the structure of the dataset, the proportions between laundering and non-laundering, and whether there are marked differences between the features of the two classes.\n",
        "Subsequently, the temporal relationship between the data will be explored in more depth, given that time is one of the main features when trying to uncover fraudulent patterns.\n",
        "Finally, after calculating the features that are believed to be of interest, the correlation matrix will be computed to understand how correlated the features are within the dataset and to also grasp their importance for the model's learning."
      ]
    },
    {
      "cell_type": "markdown",
      "metadata": {
        "id": "Ydj236SMixyc"
      },
      "source": [
        "## Initial Analysis of the Dataset\n",
        "\n",
        "In this section, we will look at how the classes are distributed within the dataset, studying the proportion of fraudulent transactions for different payment methods and formats, as well as the difference, if any, in the amounts being transferred when transactions are fraudulent."
      ]
    },
    {
      "cell_type": "code",
      "execution_count": 9,
      "metadata": {
        "colab": {
          "base_uri": "https://localhost:8080/"
        },
        "id": "gFuZCwwDixyc",
        "outputId": "e6f38e87-0385-4d65-e8fa-1f7508449db2"
      },
      "outputs": [
        {
          "name": "stderr",
          "output_type": "stream",
          "text": [
            "[Stage 1:>                                                          (0 + 8) / 8]\r"
          ]
        },
        {
          "name": "stdout",
          "output_type": "stream",
          "text": [
            "+---------+---------+------------+-------+----------+---------------+------------------+-----------+----------------+--------------+-------------+-----+\n",
            "|timestamp|from_bank|from_account|to_bank|to_account|amount_received|receiving_currency|amount_paid|payment_currency|payment_format|is_laundering|index|\n",
            "+---------+---------+------------+-------+----------+---------------+------------------+-----------+----------------+--------------+-------------+-----+\n",
            "|        0|        0|           0|      0|         0|              0|                 0|          0|               0|             0|            0|    0|\n",
            "+---------+---------+------------+-------+----------+---------------+------------------+-----------+----------------+--------------+-------------+-----+\n",
            "\n"
          ]
        },
        {
          "name": "stderr",
          "output_type": "stream",
          "text": [
            "                                                                                \r"
          ]
        }
      ],
      "source": [
        "# Check if there are any null values in any cell\n",
        "df.select([F.sum(col(c).isNull().cast(\"int\")).alias(c) for c in df.columns]).show()"
      ]
    },
    {
      "cell_type": "markdown",
      "metadata": {
        "id": "G7XzmcRtixyc"
      },
      "source": [
        "There are no null values, so there is no need to remove or modify any rows. Therefore, we can proceed with the subsequent analyses."
      ]
    },
    {
      "cell_type": "code",
      "execution_count": 10,
      "metadata": {
        "colab": {
          "base_uri": "https://localhost:8080/"
        },
        "id": "zQThTV9cixyc",
        "outputId": "b74bfa48-e315-472e-f915-d39f828b0948"
      },
      "outputs": [
        {
          "name": "stderr",
          "output_type": "stream",
          "text": [
            "[Stage 7:>                                                          (0 + 8) / 8]\r"
          ]
        },
        {
          "name": "stdout",
          "output_type": "stream",
          "text": [
            "+-------------+-------+---------------------+\n",
            "|is_laundering|count  |proportion           |\n",
            "+-------------+-------+---------------------+\n",
            "|1            |5177   |0.0010194266045335635|\n",
            "|0            |5073168|0.9989805733954664   |\n",
            "+-------------+-------+---------------------+\n",
            "\n"
          ]
        },
        {
          "name": "stderr",
          "output_type": "stream",
          "text": [
            "                                                                                \r"
          ]
        }
      ],
      "source": [
        "# Proportion of laundering and non-laundering within the dataset. 1: Laundering, 0: Not laundering\n",
        "total_count = df.count()\n",
        "df.select('is_laundering').groupBy('is_laundering').agg(count('*').alias('count')).withColumn(\"proportion\", col('count')/total_count).show(5, truncate=False)"
      ]
    },
    {
      "cell_type": "markdown",
      "metadata": {
        "id": "slD47j4Gixyc"
      },
      "source": [
        "From the outset, it is evident that fraudulent transactions are approximately 1/1000 of the total transactions. This leads to a highly imbalanced dataset, making the identification of patterns more challenging."
      ]
    },
    {
      "cell_type": "markdown",
      "metadata": {
        "id": "CQ5lXyL7ixyc"
      },
      "source": [
        "### Display payment format in relation to laundering transaction"
      ]
    },
    {
      "cell_type": "code",
      "execution_count": 11,
      "metadata": {
        "colab": {
          "base_uri": "https://localhost:8080/",
          "height": 549
        },
        "id": "2CRXmy55ixyc",
        "outputId": "a7c98d73-7e55-4173-d9e1-049c37b8e2d5"
      },
      "outputs": [
        {
          "name": "stderr",
          "output_type": "stream",
          "text": [
            "                                                                                \r"
          ]
        },
        {
          "name": "stdout",
          "output_type": "stream",
          "text": [
            "+--------------+----+-------+----------+\n",
            "|payment_format|1   |0      |proportion|\n",
            "+--------------+----+-------+----------+\n",
            "|ACH           |4483|596314 |0.007518  |\n",
            "|Bitcoin       |56  |146035 |0.000383  |\n",
            "|Cash          |108 |490783 |0.000220  |\n",
            "|Cheque        |324 |1864007|0.000174  |\n",
            "|Credit Card   |206 |1323118|0.000156  |\n",
            "|Reinvestment  |0   |481056 |0.000000  |\n",
            "|Wire          |0   |171855 |0.000000  |\n",
            "+--------------+----+-------+----------+\n",
            "\n"
          ]
        },
        {
          "name": "stderr",
          "output_type": "stream",
          "text": [
            "                                                                                \r"
          ]
        },
        {
          "data": {
            "image/png": "[encoded data removed]",
            "text/plain": [
              "<Figure size 1500x600 with 2 Axes>"
            ]
          },
          "metadata": {},
          "output_type": "display_data"
        }
      ],
      "source": [
        "df.select('payment_format', 'is_laundering') \\\n",
        "    .groupBy('payment_format') \\\n",
        "    .agg(\n",
        "        sum(col('is_laundering').cast('int')).alias('1'),\n",
        "        sum((1 - col('is_laundering')).cast('int')).alias('0')\n",
        "    ) \\\n",
        "    .withColumn(\"proportion\", (col(\"1\") / col(\"0\")).cast('Decimal(20,6)')) \\\n",
        "    .orderBy('proportion', ascending=False) \\\n",
        "    .show(truncate=False)\n",
        "\n",
        "if df_type == 'small':\n",
        "    # Calculate the number of corresponding values for each value of the \"Payment Format\" and \"Is Laundering\" columns\n",
        "    grouped_df = df.groupBy(\"payment_format\", \"is_laundering\").count()\n",
        "\n",
        "    count_values = grouped_df.toPandas()\n",
        "    count_values_payment = count_values.pivot(index='payment_format', columns='is_laundering', values='count')\n",
        "\n",
        "\n",
        "    fig, axs = plt.subplots(1, 2, figsize=(15, 6))\n",
        "    bar_width = 0.35\n",
        "    bar_positions = range(len(count_values_payment.index))\n",
        "\n",
        "    #Arithmetic scale\n",
        "    axs[0].bar(bar_positions, count_values_payment[0], bar_width, label='Is Laundering = 0')\n",
        "    axs[0].bar([p + bar_width for p in bar_positions], count_values_payment[1], bar_width, label='Is Laundering = 1')\n",
        "    axs[0].set_xticks(bar_positions)\n",
        "    axs[0].set_xticklabels(count_values_payment.index, rotation='vertical')\n",
        "    axs[0].set_xlabel('Payment Format')\n",
        "    axs[0].set_ylabel('Number of corresponding values')\n",
        "    axs[0].set_title('Bar chart in arithmetic scale')\n",
        "    axs[0].legend()\n",
        "\n",
        "    #Logaritmic scale\n",
        "    axs[1].bar(bar_positions, count_values_payment[0], bar_width, label='Is Laundering = 0')\n",
        "    axs[1].bar([p + bar_width for p in bar_positions], count_values_payment[1], bar_width, label='Is Laundering = 1')\n",
        "    axs[1].set_xticks(bar_positions)\n",
        "    axs[1].set_xticklabels(count_values_payment.index, rotation='vertical')\n",
        "    axs[1].set_xlabel('Payment Format')\n",
        "    axs[1].set_ylabel('Number of corresponding values')\n",
        "    axs[1].set_title('Bar chart in logarithmic scale')\n",
        "    axs[1].legend()\n",
        "    axs[1].set_yscale('log')\n",
        "\n",
        "    # Show the chart\n",
        "    plt.show()"
      ]
    },
    {
      "cell_type": "markdown",
      "metadata": {
        "id": "HMazWq0uixyc"
      },
      "source": [
        "The analysis on the payment format in relation to laundering transactions clearly shows that the ACH payment method is often associated with a fraudulent transaction. Even more interestingly, the Reinvestment and Wire methods do not contain any fraudulent transactions. This immediately suggests that the payment format is an essential feature to consider, as on its own, if used with a tree-based model, it should be able to correctly classify all Reinvestment and Wire transactions."
      ]
    },
    {
      "cell_type": "markdown",
      "metadata": {
        "id": "PttvTjzUixyd"
      },
      "source": [
        "### Display payment currency in relation to laundering transaction"
      ]
    },
    {
      "cell_type": "code",
      "execution_count": 12,
      "metadata": {
        "colab": {
          "base_uri": "https://localhost:8080/",
          "height": 702
        },
        "id": "hnETUYaqixyd",
        "outputId": "12f3b74a-4a27-429d-d378-efeba31d06ba"
      },
      "outputs": [
        {
          "name": "stderr",
          "output_type": "stream",
          "text": [
            "                                                                                \r"
          ]
        },
        {
          "name": "stdout",
          "output_type": "stream",
          "text": [
            "+-----------------+----+-------+----------+\n",
            "|payment_currency |1   |0      |proportion|\n",
            "+-----------------+----+-------+----------+\n",
            "|Saudi Riyal      |374 |88640  |0.004219  |\n",
            "|Euro             |1372|1166925|0.001176  |\n",
            "|US Dollar        |1912|1893260|0.001010  |\n",
            "|Yen              |155 |155054 |0.001000  |\n",
            "|Australian Dollar|127 |136642 |0.000929  |\n",
            "|Canadian Dollar  |128 |139914 |0.000915  |\n",
            "|Rupee            |167 |190035 |0.000879  |\n",
            "|Yuan             |184 |213568 |0.000862  |\n",
            "|Ruble            |133 |155045 |0.000858  |\n",
            "|Mexican Peso     |92  |110067 |0.000836  |\n",
            "|Swiss Franc      |193 |234667 |0.000822  |\n",
            "|Brazil Real      |57  |70646  |0.000807  |\n",
            "|UK Pound         |132 |180606 |0.000731  |\n",
            "|Shekel           |95  |192089 |0.000495  |\n",
            "|Bitcoin          |56  |146010 |0.000384  |\n",
            "+-----------------+----+-------+----------+\n",
            "\n"
          ]
        },
        {
          "name": "stderr",
          "output_type": "stream",
          "text": [
            "                                                                                \r"
          ]
        },
        {
          "data": {
            "image/png": "[encoded data removed]",
            "text/plain": [
              "<Figure size 1500x600 with 2 Axes>"
            ]
          },
          "metadata": {},
          "output_type": "display_data"
        }
      ],
      "source": [
        "df.select('payment_currency', 'is_laundering') \\\n",
        "    .groupBy('payment_currency') \\\n",
        "    .agg(\n",
        "        sum(col('is_laundering').cast('int')).alias('1'),\n",
        "        sum((1 - col('is_laundering')).cast('int')).alias('0')\n",
        "    ) \\\n",
        "    .withColumn(\"proportion\", (col(\"1\") / col(\"0\")).cast('Decimal(20,6)')) \\\n",
        "    .orderBy('proportion', ascending=False) \\\n",
        "    .show(truncate=False)\n",
        "\n",
        "if df_type == 'small':\n",
        "    grouped_df = df.groupBy(\"payment_currency\", \"is_laundering\").count()\n",
        "\n",
        "    count_values = grouped_df.toPandas()\n",
        "    count_values_currency = count_values.pivot(index='payment_currency', columns='is_laundering', values='count')\n",
        "    count_values_currency = count_values_currency.sort_values(1, ascending=False)\n",
        "\n",
        "    # Create a bar chart with a arithmetic scale\n",
        "    fig, axs = plt.subplots(1, 2, figsize=(15, 6))\n",
        "    bar_width = 0.35\n",
        "    bar_positions = range(len(count_values_currency.index))\n",
        "    axs[0].bar(bar_positions, count_values_currency[0], bar_width, label='Is Laundering = 0')\n",
        "    axs[0].bar([p + bar_width for p in bar_positions], count_values_currency[1], bar_width, label='Is Laundering = 1')\n",
        "    axs[0].set_xticks(bar_positions)\n",
        "    axs[0].set_xticklabels(count_values_currency.index, rotation='vertical')\n",
        "    axs[0].set_xticklabels(count_values_currency.index)\n",
        "    axs[0].set_xlabel('Payment Currency')\n",
        "    axs[0].set_ylabel('Number of corresponding values')\n",
        "    axs[0].set_title('Bar chart in arithmetic scale')\n",
        "    axs[0].legend()\n",
        "\n",
        "    # Create a bar chart with a logarithmic scale\n",
        "    axs[1].bar(bar_positions, count_values_currency[0], bar_width, label='Is Laundering = 0')\n",
        "    axs[1].bar([p + bar_width for p in bar_positions], count_values_currency[1], bar_width, label='Is Laundering = 1')\n",
        "    axs[1].set_xticks(bar_positions)\n",
        "    axs[1].set_xticklabels(count_values_currency.index, rotation='vertical')\n",
        "    axs[1].set_xticklabels(count_values_currency.index)\n",
        "    axs[1].set_xlabel('Payment Currency')\n",
        "    axs[1].set_ylabel('Number of corresponding values')\n",
        "    axs[1].set_title('Bar chart in logarithmic scale')\n",
        "    axs[1].legend()\n",
        "    axs[1].set_yscale('log')\n",
        "\n",
        "\n",
        "    plt.show()"
      ]
    },
    {
      "cell_type": "markdown",
      "metadata": {
        "id": "KqLpKYJ5ixyd"
      },
      "source": [
        "The study on payment methods in relation to fraudulent transactions appears to be less impactful than that on the payment format. However, in the small dataset, it shows that the US Dollar payment type, which seems to be the most frequent within the dataset, contains the highest number of fraudulent transactions. Despite this, in terms of proportion, the Saudi Riyal payment method seems to be much more fraudulent, followed by the Euro."
      ]
    },
    {
      "cell_type": "markdown",
      "metadata": {
        "id": "ofj5Zgvcixyd"
      },
      "source": [
        "### Display relationhip between amount paid and laundering transaction"
      ]
    },
    {
      "cell_type": "code",
      "execution_count": 13,
      "metadata": {
        "colab": {
          "base_uri": "https://localhost:8080/",
          "height": 610
        },
        "id": "gXLcnCr8ixyd",
        "outputId": "52ab193d-5aee-4dad-f7c5-ca41b7c9aa1c"
      },
      "outputs": [
        {
          "name": "stderr",
          "output_type": "stream",
          "text": [
            "                                                                                \r"
          ]
        },
        {
          "name": "stdout",
          "output_type": "stream",
          "text": [
            "+-------------+--------+-------------+-------------------+\n",
            "|is_laundering|     min|          max|               mean|\n",
            "+-------------+--------+-------------+-------------------+\n",
            "|            1|0.003227| 8.4853146E10|3.613531071586281E7|\n",
            "|            0|0.000001|1.04630236E12|  4477000.057857962|\n",
            "+-------------+--------+-------------+-------------------+\n",
            "\n"
          ]
        },
        {
          "name": "stderr",
          "output_type": "stream",
          "text": [
            "                                                                                \r"
          ]
        },
        {
          "data": {
            "image/png": "[encoded data removed]",
            "text/plain": [
              "<Figure size 640x480 with 1 Axes>"
            ]
          },
          "metadata": {},
          "output_type": "display_data"
        }
      ],
      "source": [
        "grouped_stats = df.groupBy('is_laundering').agg(\n",
        "    min(col('amount_paid')).alias('min').cast('Decimal(20,6)').alias('min'),\n",
        "    max(col('amount_paid')).alias('max').alias('max'),\n",
        "    mean(col('amount_paid')).alias('mean').alias('mean')\n",
        ")\n",
        "\n",
        "grouped_stats.show()\n",
        "\n",
        "if df_type == 'small':\n",
        "    # Downsample the majority class since displaying would be too computationally intensive\n",
        "    df_0 = df.filter(df['is_laundering'] == 0).sample(withReplacement=False, fraction=100000/5000000)\n",
        "    df_1 = df.filter(df['is_laundering'] == 1)\n",
        "    df_sampled = df_0.union(df_1)\n",
        "\n",
        "    df_pd = df_sampled.toPandas()\n",
        "\n",
        "    plt.yscale(\"log\")\n",
        "    plt.gca().yaxis.set_major_formatter(plt.FuncFormatter(lambda x, _: format(x, ',.2f')))\n",
        "\n",
        "    # Plot the points for is_laundering == 0 in blue and is_laundering == 1 in red\n",
        "    plt.scatter(df_pd[df_pd['is_laundering'] == 0]['is_laundering'], df_pd[df_pd['is_laundering'] == 0]['amount_paid'], color='blue', alpha=0.5, label='Not Laundering')\n",
        "    plt.scatter(df_pd[df_pd['is_laundering'] == 1]['is_laundering'], df_pd[df_pd['is_laundering'] == 1]['amount_paid'], color='red', alpha=0.5, label='Laundering')\n",
        "\n",
        "    plt.title(\"Relationship between Is Laundering and Amount Paid\")\n",
        "    plt.xlabel(\"Is Laundering\")\n",
        "    plt.ylabel(\"Amount Paid\")\n",
        "    plt.xticks([0, 1])\n",
        "    plt.legend()\n",
        "    plt.grid(True)\n",
        "    plt.tight_layout()\n",
        "    plt.show()\n"
      ]
    },
    {
      "cell_type": "markdown",
      "metadata": {
        "id": "Vwc6Sojmixyd"
      },
      "source": [
        "Unlike previous analyses, when examining the behavior of fraudulent transactions in relation to the amount sent, it is apparent that there is no clear separation between fraudulent and non-fraudulent transactions. In fact, using a chart, it can be observed that the range of amounts for fraudulent transactions is encompassed within non-fraudulent ones without a distinct divide. Moreover, considering that fraudulent transactions are about 1/1000 of non-fraudulent ones, it can be inferred that the transaction amount, whether tainted or not, likely does not significantly aid the model's ability to correctly classify the data.\n",
        "\n",
        "However, these two features will be retained to examine them further in the correlation matrix."
      ]
    },
    {
      "cell_type": "markdown",
      "metadata": {
        "id": "N47foIPDixyd"
      },
      "source": [
        "### Display top 10 accounts for fraudolent transactions"
      ]
    },
    {
      "cell_type": "code",
      "execution_count": 14,
      "metadata": {
        "colab": {
          "base_uri": "https://localhost:8080/"
        },
        "id": "gaVLO56aixyd",
        "outputId": "eacda555-fd8d-4fc1-d049-b27c3fec4113"
      },
      "outputs": [
        {
          "name": "stderr",
          "output_type": "stream",
          "text": [
            "                                                                                \r"
          ]
        },
        {
          "name": "stdout",
          "output_type": "stream",
          "text": [
            "+------------+-----------+----------------+----------+\n",
            "|from_account|total_trans|count_laundering|fraud_rate|\n",
            "+------------+-----------+----------------+----------+\n",
            "|   100428660|     168672|             243|  0.001441|\n",
            "|   1004286A8|     103018|             158|  0.001534|\n",
            "|   100428978|      20497|              29|  0.001415|\n",
            "|   1004286F0|      18663|              21|  0.001125|\n",
            "|   100428780|      17264|              21|  0.001216|\n",
            "|   1004289C0|      16794|              13|  0.000774|\n",
            "|   100428810|      16426|              26|  0.001583|\n",
            "|   1004287C8|      14174|              16|  0.001129|\n",
            "|   100428738|      13756|              23|  0.001672|\n",
            "|   100428A51|      13073|              18|  0.001377|\n",
            "+------------+-----------+----------------+----------+\n",
            "only showing top 10 rows\n",
            "\n"
          ]
        },
        {
          "name": "stderr",
          "output_type": "stream",
          "text": [
            "                                                                                \r"
          ]
        },
        {
          "name": "stdout",
          "output_type": "stream",
          "text": [
            "Number of accounts that send just one transaction and it is fraudulent: 122\n"
          ]
        }
      ],
      "source": [
        "# Calculate the total number of transactions for each account\n",
        "total_transactions = df.groupBy('from_account')\\\n",
        "    .agg(F.count('*').alias('total_trans'))\n",
        "\n",
        "# Count the number of fraudulent transactions for each account\n",
        "fraudulent_transactions = df.filter(col('is_laundering') == 1)\\\n",
        "    .groupBy('from_account')\\\n",
        "    .agg(F.count('*').alias('count_laundering'))\n",
        "\n",
        "# Merge the two counts\n",
        "joined_df = total_transactions.join(fraudulent_transactions, 'from_account', 'left_outer')\\\n",
        "    .fillna(0)  # In case there are no fraudulent transactions for a given account\n",
        "\n",
        "# Calculate the ratio\n",
        "joined_df = joined_df.withColumn('fraud_rate', (F.col('count_laundering') / F.col('total_trans')).cast('Decimal(20,6)'))\n",
        "\n",
        "# Sort and display the results\n",
        "joined_df.orderBy('total_trans', ascending=False).show(10)\n",
        "print(f\"Number of accounts that send just one transaction and it is fraudulent: {joined_df.filter((col('total_trans') == 1) & (col('fraud_rate') == 1)).count()}\")\n"
      ]
    },
    {
      "cell_type": "markdown",
      "metadata": {
        "id": "5bJl4F1nixyd"
      },
      "source": [
        "### Determine how many times an account sends both laundering and non-laundering transactions to the same account."
      ]
    },
    {
      "cell_type": "code",
      "execution_count": 15,
      "metadata": {
        "colab": {
          "base_uri": "https://localhost:8080/"
        },
        "id": "RGh56AvRixyd",
        "outputId": "14684ea3-703b-44d6-8c37-463964549c66"
      },
      "outputs": [
        {
          "name": "stderr",
          "output_type": "stream",
          "text": [
            "[Stage 41:===========================================>              (6 + 2) / 8]\r"
          ]
        },
        {
          "name": "stdout",
          "output_type": "stream",
          "text": [
            "+------------+-----+\n",
            "|from_account|count|\n",
            "+------------+-----+\n",
            "|   100428660|  236|\n",
            "|   1004286A8|  156|\n",
            "|   100428978|   28|\n",
            "|   100428810|   26|\n",
            "|   100428738|   22|\n",
            "|   1004286F0|   21|\n",
            "|   100428780|   21|\n",
            "|   100428A51|   18|\n",
            "|   1004288A0|   16|\n",
            "|   1004287C8|   16|\n",
            "+------------+-----+\n",
            "only showing top 10 rows\n",
            "\n"
          ]
        },
        {
          "name": "stderr",
          "output_type": "stream",
          "text": [
            "                                                                                \r"
          ]
        }
      ],
      "source": [
        "df_temp = df.select('from_account', 'to_account', 'is_laundering')\n",
        "\n",
        "# Group and count unique occurrences\n",
        "grouped_df = df_temp.groupBy('from_account', 'to_account').agg(collect_set('is_laundering').alias('unique_values'))\n",
        "\n",
        "# Filter results with more than one occurrence\n",
        "filtered_df = grouped_df.filter(col('unique_values').getItem(0) != col('unique_values').getItem(1))\n",
        "\n",
        "# Calculate the number of filtered occurrences for each 'from_account'\n",
        "result_df = filtered_df.groupBy('from_account').count().orderBy(col('count').desc())\n",
        "\n",
        "result_df.show(10)"
      ]
    },
    {
      "cell_type": "markdown",
      "metadata": {
        "id": "uzN77wWwixyd"
      },
      "source": [
        "Regarding the accounts, it is evident that some accounts have conducted significantly more transactions than others. Apart from this, using accounts as features is not relevant for training the model. However, we can study the behavior of transactions when accounts are the same or different and determine if there's a particular correlation with fraudulent transactions. The same can be done with the sending and arriving currency and with the starting and arriving amount."
      ]
    },
    {
      "cell_type": "markdown",
      "metadata": {
        "id": "fttE6Vgyixyd"
      },
      "source": [
        "### Show the relationship between identical accounts and fraudulent transactions"
      ]
    },
    {
      "cell_type": "code",
      "execution_count": 16,
      "metadata": {
        "colab": {
          "base_uri": "https://localhost:8080/"
        },
        "id": "tR4KUe4iixyi",
        "outputId": "0c87816d-dc55-4d42-ac49-537e5030cdf1"
      },
      "outputs": [
        {
          "name": "stderr",
          "output_type": "stream",
          "text": [
            "[Stage 48:>                 (0 + 8) / 8][Stage 50:>                 (0 + 0) / 1]\r"
          ]
        },
        {
          "name": "stdout",
          "output_type": "stream",
          "text": [
            "+-------------+------+----------+\n",
            "|is_laundering| count|proportion|\n",
            "+-------------+------+----------+\n",
            "|            1|    11|  0.002125|\n",
            "|            0|591201|  0.116535|\n",
            "+-------------+------+----------+\n",
            "\n"
          ]
        },
        {
          "name": "stderr",
          "output_type": "stream",
          "text": [
            "                                                                                \r"
          ]
        }
      ],
      "source": [
        "grouped_df = df.filter(F.col('from_account') == F.col('to_account'))\\\n",
        "    .groupBy('is_laundering')\\\n",
        "    .agg(F.count('*').alias('count'))\n",
        "\n",
        "count_total = df.groupBy(col('is_laundering').alias('is_laundering_temp')).agg(count('*').alias('count_total'))\n",
        "grouped_df = grouped_df.join(count_total, col('is_laundering') == col('is_laundering_temp')).drop('is_laundering_temp').withColumn('proportion', (col('count') / col('count_total')).cast('Decimal(20,6)')).drop('count_total')\n",
        "grouped_df.show()"
      ]
    },
    {
      "cell_type": "code",
      "execution_count": 17,
      "metadata": {
        "id": "M6BmOOM6oytB"
      },
      "outputs": [
        {
          "data": {
            "text/plain": [
              "70"
            ]
          },
          "execution_count": 17,
          "metadata": {},
          "output_type": "execute_result"
        }
      ],
      "source": [
        "del result_df, joined_df, grouped_df\n",
        "gc.collect()"
      ]
    },
    {
      "cell_type": "markdown",
      "metadata": {
        "id": "m5ASVoMyixyi"
      },
      "source": [
        "From these analyses, it appears very unlikely that a transaction with the same source and destination account is fraudulent. This could prove to be an interesting feature to consider and add."
      ]
    },
    {
      "cell_type": "code",
      "execution_count": 5,
      "metadata": {
        "id": "3UWovnhCixyi"
      },
      "outputs": [],
      "source": [
        "class Manager():\n",
        "\n",
        "    \"\"\"\n",
        "    A class designed to manage and process dataframe features.\n",
        "    \"\"\"\n",
        "\n",
        "    def __init__(self):\n",
        "        \"\"\"Initialize mappings for currency and payment format.\"\"\"\n",
        "        self.mapping_currency = {}\n",
        "        self.mapping_format = {}\n",
        "        self.mapping_account = {}\n",
        "\n",
        "    def add_same_currency(self, df):\n",
        "        \"\"\"Add a column indicating if the receiving and payment currencies are the same.\"\"\"\n",
        "        return df.withColumn('same_currency', when((col('receiving_currency') == col('payment_currency')), 1).otherwise(0))\n",
        "\n",
        "    def add_same_account(self, df):\n",
        "        \"\"\"Add a column indicating if the source and destination accounts are the same.\"\"\"\n",
        "        return df.withColumn('same_account', when((col('from_account') == col('to_account')), 1).otherwise(0))\n",
        "\n",
        "    def add_same_bank(self, df):\n",
        "        \"\"\"Add a column indicating if the source and destination banks are the same.\"\"\"\n",
        "        return df.withColumn('same_bank', when((col('from_bank') == col('to_bank')), 1).otherwise(0))\n",
        "\n",
        "    def add_trans_received(self, df):\n",
        "        \"\"\"Add columns showing the number of transactions received by an account per day, hour, and minute.\"\"\"\n",
        "        window = Window.partitionBy('to_account', 'day')\n",
        "        df = df.withColumn(\"transaction_received_per_day\", count('*').over(window))\n",
        "\n",
        "        window = Window.partitionBy('to_account', 'hour')\n",
        "        df = df.withColumn(\"transaction_received_per_hour\", count('*').over(window))\n",
        "\n",
        "        window = Window.partitionBy('to_account', 'minute')\n",
        "        df = df.withColumn(\"transaction_received_per_minute\", count('*').over(window))\n",
        "\n",
        "        return df\n",
        "\n",
        "    def add_trans_send(self, df):\n",
        "        \"\"\"Add columns showing the number of transactions sent by an account per day, hour, and minute.\"\"\"\n",
        "        window = Window.partitionBy('from_account', 'day')\n",
        "        df = df.withColumn(\"transaction_send_per_day\", count('*').over(window))\n",
        "\n",
        "        window = Window.partitionBy('from_account', 'hour')\n",
        "        df = df.withColumn(\"transaction_send_per_hour\", count('*').over(window))\n",
        "\n",
        "        window = Window.partitionBy('from_account', 'minute')\n",
        "        df = df.withColumn(\"transaction_send_per_minute\", count('*').over(window))\n",
        "\n",
        "        return df\n",
        "\n",
        "    def add_unique_payment_format(self, df):\n",
        "        \"\"\"Add a column indicating the number of unique payment formats an account has used in the last day.\"\"\"\n",
        "        df = df.withColumn(\"timestamp_minutes\", F.unix_timestamp(\"timestamp\")/60)\n",
        "\n",
        "        #Day\n",
        "        windowSpec = Window.partitionBy(\"from_account\").orderBy(\"timestamp_minutes\")\\\n",
        "                    .rangeBetween(-1440, Window.currentRow)\n",
        "        df = df.withColumn(\"unique_payment_formats_last_day\", F.size(F.collect_set(\"payment_format\").over(windowSpec)))\n",
        "\n",
        "        return df.drop('timestamp_minutes')\n",
        "\n",
        "    def add_minutes_since_last_trans(self, df):\n",
        "        \"\"\"Add a column showing the number of minutes since the last transaction for each account.\"\"\"\n",
        "        windowSpec = Window.partitionBy(\"from_account\").orderBy(\"timestamp\")\n",
        "\n",
        "        df = df.withColumn(\"prev_timestamp\", F.lag(df.timestamp).over(windowSpec))\n",
        "\n",
        "        # Calcola la differenza in minuti, -1 se è la prima transazione che effettua\n",
        "        df = df.withColumn(\n",
        "            \"minutes_since_last_transaction\",\n",
        "            F.when(\n",
        "                F.isnull(df.prev_timestamp),\n",
        "                -1\n",
        "            ).otherwise(\n",
        "                (F.unix_timestamp(df.timestamp) - F.unix_timestamp(df.prev_timestamp)) / 60\n",
        "            )\n",
        "        )\n",
        "\n",
        "        return df.drop(\"prev_timestamp\")\n",
        "\n",
        "    def add_unique_to_bank_account(self, df):\n",
        "        \"\"\"Add columns indicating the number of unique banks and accounts an account has transacted with in the last day.\"\"\"\n",
        "        df = df.withColumn(\"timestamp_minutes\", F.unix_timestamp(\"timestamp\")/60)\n",
        "\n",
        "        windowSpec = Window.partitionBy(\"from_account\").orderBy(\"timestamp_minutes\")\\\n",
        "                    .rangeBetween(-1440, Window.currentRow)\n",
        "        df = df.withColumn(\"unique_to_banks_last_day\", F.size(F.collect_set(\"to_bank\").over(windowSpec)))\n",
        "        df = df.withColumn(\"unique_to_accounts_last_day\", F.size(F.collect_set(\"to_account\").over(windowSpec)))\n",
        "\n",
        "\n",
        "        return df.drop('timestamp_minutes')\n",
        "\n",
        "    def add_unique_payment_currency(self, df):\n",
        "        \"\"\"Add a column indicating the number of unique payment currencies an account has used in the last day.\"\"\"\n",
        "        df = df.withColumn(\"timestamp_minutes\", F.unix_timestamp(\"timestamp\")/60)\n",
        "\n",
        "        windowSpec = Window.partitionBy(\"from_account\").orderBy(\"timestamp_minutes\")\\\n",
        "                    .rangeBetween(-1440, Window.currentRow)\n",
        "        df = df.withColumn(\"unique_payment_currency_last_day\", F.size(F.collect_set(\"payment_currency\").over(windowSpec)))\n",
        "\n",
        "        return df.drop('timestamp_minutes')\n",
        "\n",
        "    def add_transaction_recurrence(self, df):\n",
        "        \"\"\"Add a column showing how often an account transacts with another specific account.\"\"\"\n",
        "        windowSpec = Window.partitionBy(\"from_account\", \"to_account\").orderBy(\"timestamp\").rowsBetween(Window.unboundedPreceding, Window.currentRow)\n",
        "        return df.withColumn(\"transaction_recurrence\", F.count(\"timestamp\").over(windowSpec))\n",
        "\n",
        "\n",
        "    def remove_unnecessary_features(self, df):\n",
        "        \"\"\"Remove columns that are not required for further processing or analysis.\"\"\"\n",
        "        df = df.drop('from_bank')\n",
        "        df = df.drop('to_bank')\n",
        "        df = df.drop('from_account')\n",
        "        df = df.drop('to_account')\n",
        "        df = df.drop('amount_received')\n",
        "        df = df.drop('amount_paid')\n",
        "        df = df.drop('index')\n",
        "        df = df.drop('timestamp')\n",
        "        return df\n",
        "\n",
        "    def create_mapping(self, df, col1, col2=None):\n",
        "        \"\"\"Create a mapping of unique values in a column to unique integers.\"\"\"\n",
        "        unique_columns = set(df.select(col1).orderBy(col1).distinct().rdd.flatMap(lambda x: x).collect())\n",
        "        if col2:\n",
        "            unique_columns.update(df.select(col2).distinct().rdd.flatMap(lambda x: x).collect())\n",
        "        return {column: index for index, column in enumerate(unique_columns)}\n",
        "\n",
        "    def label_columns(self, df, col1, mapping, col2=None):\n",
        "        \"\"\"Replace categorical column values with their corresponding mapping integer values.\"\"\"\n",
        "        column_to_index_udf = udf(lambda column: mapping[column], IntegerType())\n",
        "\n",
        "        df_to_return = df.withColumn(f\"{col1}_indexed\", column_to_index_udf(col(col1))).drop(col1).withColumnRenamed(f'{col1}_indexed', col1)\n",
        "        if col2:\n",
        "            df_to_return = df_to_return.withColumn(f\"{col2}_indexed\", column_to_index_udf(col(col2))).drop(col2).withColumnRenamed(f'{col2}_indexed', col2)\n",
        "        return df_to_return\n",
        "\n",
        "\n",
        "    def add_features(self, df):\n",
        "        \"\"\"Add a series of new features to the dataframe.\"\"\"\n",
        "\n",
        "        df = self.add_same_account(df)\n",
        "        df = self.add_same_bank(df)\n",
        "        df = self.add_same_currency(df)\n",
        "        df = self.add_trans_received(df)\n",
        "        df = self.add_trans_send(df)\n",
        "        df = self.add_minutes_since_last_trans(df)\n",
        "        df = self.add_unique_to_bank_account(df)\n",
        "        df = self.add_unique_payment_format(df)\n",
        "        df = self.add_unique_payment_currency(df)\n",
        "        df = self.add_transaction_recurrence(df)\n",
        "        df = self.remove_unnecessary_features(df)\n",
        "\n",
        "        return df\n",
        "\n",
        "    def save_on_disk(self, df, path, name):\n",
        "        \"\"\"Save the processed dataframe to disk in parquet format.\"\"\"\n",
        "        df.coalesce(32).write.parquet(f'{path}/df.{name}', mode='overwrite')\n",
        "\n",
        "\n",
        "manager = Manager()"
      ]
    },
    {
      "cell_type": "code",
      "execution_count": 19,
      "metadata": {
        "id": "R0nshxp3ixyi"
      },
      "outputs": [],
      "source": [
        "# Add a feature that checks if the source and destination accounts are the same\n",
        "df = manager.add_same_account(df)"
      ]
    },
    {
      "cell_type": "markdown",
      "metadata": {
        "id": "JPZ0OhM0ixyi"
      },
      "source": [
        "### Show the relationship between identical banks and fraudulent transactions"
      ]
    },
    {
      "cell_type": "code",
      "execution_count": 20,
      "metadata": {
        "colab": {
          "base_uri": "https://localhost:8080/"
        },
        "id": "dPLjQwgkixyi",
        "outputId": "ac53c096-312c-401e-959b-fcf0b4df307d"
      },
      "outputs": [
        {
          "name": "stderr",
          "output_type": "stream",
          "text": [
            "[Stage 54:>                 (0 + 8) / 8][Stage 56:>                 (0 + 0) / 1]\r"
          ]
        },
        {
          "name": "stdout",
          "output_type": "stream",
          "text": [
            "+-------------+------+----------+\n",
            "|is_laundering| count|proportion|\n",
            "+-------------+------+----------+\n",
            "|            1|   103|  0.019896|\n",
            "|            0|691229|  0.136252|\n",
            "+-------------+------+----------+\n",
            "\n"
          ]
        },
        {
          "name": "stderr",
          "output_type": "stream",
          "text": [
            "                                                                                \r"
          ]
        }
      ],
      "source": [
        "grouped_df = df.filter(F.col('from_bank') == F.col('to_bank'))\\\n",
        "    .groupBy('is_laundering')\\\n",
        "    .agg(F.count('*').alias('count'))\n",
        "\n",
        "count_total = df.groupBy(col('is_laundering').alias('is_laundering_temp')).agg(count('*').alias('count_total'))\n",
        "grouped_df = grouped_df.join(count_total, col('is_laundering') == col('is_laundering_temp')).drop('is_laundering_temp').withColumn('proportion', (col('count') / col('count_total')).cast('Decimal(20,6)')).drop('count_total')\n",
        "grouped_df.show()"
      ]
    },
    {
      "cell_type": "code",
      "execution_count": 21,
      "metadata": {
        "colab": {
          "base_uri": "https://localhost:8080/"
        },
        "id": "u5Dtnw7qixyi",
        "outputId": "d01ff877-9ee7-45f1-af42-faf587e91681"
      },
      "outputs": [
        {
          "name": "stderr",
          "output_type": "stream",
          "text": [
            "                                                                                \r"
          ]
        },
        {
          "name": "stdout",
          "output_type": "stream",
          "text": [
            "Number of account with more than one bank associated: 8\n"
          ]
        },
        {
          "name": "stderr",
          "output_type": "stream",
          "text": [
            "[Stage 69:====================================================>   (15 + 1) / 16]\r"
          ]
        },
        {
          "name": "stdout",
          "output_type": "stream",
          "text": [
            "+---------+---------+\n",
            "|  account|num_banks|\n",
            "+---------+---------+\n",
            "|80FA56340|        2|\n",
            "|8135B8250|        2|\n",
            "|80A7FD400|        2|\n",
            "|8135B8200|        2|\n",
            "|81211BC00|        2|\n",
            "|80FA55EF0|        2|\n",
            "|81211BA20|        2|\n",
            "|80A7FDE00|        2|\n",
            "+---------+---------+\n",
            "\n"
          ]
        },
        {
          "name": "stderr",
          "output_type": "stream",
          "text": [
            "                                                                                \r"
          ]
        }
      ],
      "source": [
        "from_df = df.select(col(\"from_account\").alias(\"account\"), col(\"from_bank\").alias(\"bank\"))\n",
        "to_df = df.select(col(\"to_account\").alias(\"account\"), col(\"to_bank\").alias(\"bank\"))\n",
        "combined_df = from_df.union(to_df)\n",
        "\n",
        "result_df = combined_df.groupBy(\"account\").agg(countDistinct(\"bank\").alias(\"num_banks\"))\n",
        "\n",
        "filtered_df = result_df.filter(result_df[\"num_banks\"] > 1)\n",
        "\n",
        "show_df = filtered_df.orderBy('num_banks', ascending=False)\n",
        "print(f'Number of account with more than one bank associated: {show_df.count()}')\n",
        "\n",
        "show_df.show()"
      ]
    },
    {
      "cell_type": "code",
      "execution_count": 22,
      "metadata": {
        "colab": {
          "base_uri": "https://localhost:8080/"
        },
        "id": "njhgvvFqpAL0",
        "outputId": "94e7a4d7-3324-47c0-b5e7-1157f3197316"
      },
      "outputs": [
        {
          "data": {
            "text/plain": [
              "123"
            ]
          },
          "execution_count": 22,
          "metadata": {},
          "output_type": "execute_result"
        }
      ],
      "source": [
        "del grouped_df, filtered_df\n",
        "gc.collect()"
      ]
    },
    {
      "cell_type": "markdown",
      "metadata": {
        "id": "PdhhVPAhixyj"
      },
      "source": [
        "The study shows that there are 8 accounts that have more than one associated bank, and the maximum number of associated banks is 2. Additionally, it demonstrates that there is a stronger correlation between the sending and receiving bank being the same compared to the same account. Of course, the same bank can belong to multiple users. This is also a feature that could be useful for classification."
      ]
    },
    {
      "cell_type": "code",
      "execution_count": 23,
      "metadata": {
        "id": "Bokm-zeZixyj"
      },
      "outputs": [],
      "source": [
        "# Add a feature that checks if the sending and receiving banks are the same\n",
        "df = manager.add_same_bank(df)"
      ]
    },
    {
      "cell_type": "markdown",
      "metadata": {
        "id": "fy9N2gnzixyj"
      },
      "source": [
        "### Show the relationship between identical amounts and fraudulent transactions"
      ]
    },
    {
      "cell_type": "code",
      "execution_count": 24,
      "metadata": {
        "colab": {
          "base_uri": "https://localhost:8080/"
        },
        "id": "gj7til7Lixyj",
        "outputId": "5b40e147-1a90-4d87-b30c-85020d5b4fab"
      },
      "outputs": [
        {
          "name": "stderr",
          "output_type": "stream",
          "text": [
            "[Stage 76:>                 (0 + 8) / 8][Stage 78:>                 (0 + 0) / 1]\r"
          ]
        },
        {
          "name": "stdout",
          "output_type": "stream",
          "text": [
            "+-------------+-------+----------+\n",
            "|is_laundering|  count|proportion|\n",
            "+-------------+-------+----------+\n",
            "|            1|   5177|  1.000000|\n",
            "|            0|5001010|  0.985777|\n",
            "+-------------+-------+----------+\n",
            "\n"
          ]
        },
        {
          "name": "stderr",
          "output_type": "stream",
          "text": [
            "                                                                                \r"
          ]
        }
      ],
      "source": [
        "grouped_df = df.filter(F.col('amount_received') == F.col('amount_paid'))\\\n",
        "    .groupBy('is_laundering')\\\n",
        "    .agg(F.count('*').alias('count'))\n",
        "\n",
        "count_total = df.groupBy(col('is_laundering').alias('is_laundering_temp')).agg(count('*').alias('count_total'))\n",
        "grouped_df = grouped_df.join(count_total, col('is_laundering') == col('is_laundering_temp')).drop('is_laundering_temp').withColumn('proportion', (col('count') / col('count_total')).cast('Decimal(20,6)')).drop('count_total')\n",
        "grouped_df.show()"
      ]
    },
    {
      "cell_type": "markdown",
      "metadata": {
        "id": "HZD6c-hlixyj"
      },
      "source": [
        "In this case, we can observe that all fraudulent transactions have identical sent and received amounts. As a result, we can deduce that they also have the same sending and receiving currency; otherwise, there would be a difference due to currency exchange rates. However, even though this might seem like an interesting feature, when compared with non-fraudulent transactions, there isn't much distinction. In other words, if the received and sent amounts weren't the same, the classification would still be accurate. It's worth noting that only 1.5% of the dataset exhibits this characteristic, so it might not be that impactful.\n",
        "\n",
        "Nevertheless, let's conduct further analysis to see if there are instances where the amount differs even when the currencies are the same."
      ]
    },
    {
      "cell_type": "markdown",
      "metadata": {
        "id": "3mpvP0nWixyj"
      },
      "source": [
        "### Show the relationship between identical currencies and fraudulent transactions"
      ]
    },
    {
      "cell_type": "code",
      "execution_count": 25,
      "metadata": {
        "colab": {
          "base_uri": "https://localhost:8080/"
        },
        "id": "DpHVFUP8ixyj",
        "outputId": "3e88c09a-f41f-41b7-e82e-1146cbf8ff22"
      },
      "outputs": [
        {
          "name": "stderr",
          "output_type": "stream",
          "text": [
            "[Stage 82:>                 (0 + 8) / 8][Stage 84:>                 (0 + 0) / 1]\r"
          ]
        },
        {
          "name": "stdout",
          "output_type": "stream",
          "text": [
            "+-------------+-------+----------+\n",
            "|is_laundering|  count|proportion|\n",
            "+-------------+-------+----------+\n",
            "|            1|   5177|  1.000000|\n",
            "|            0|5000998|  0.985774|\n",
            "+-------------+-------+----------+\n",
            "\n"
          ]
        },
        {
          "name": "stderr",
          "output_type": "stream",
          "text": [
            "                                                                                \r"
          ]
        }
      ],
      "source": [
        "grouped_df = df.filter(F.col('receiving_currency') == F.col('payment_currency'))\\\n",
        "    .groupBy('is_laundering')\\\n",
        "    .agg(F.count('*').alias('count'))\n",
        "\n",
        "count_total = df.groupBy(col('is_laundering').alias('is_laundering_temp')).agg(count('*').alias('count_total'))\n",
        "grouped_df = grouped_df.join(count_total, col('is_laundering') == col('is_laundering_temp')).drop('is_laundering_temp').withColumn('proportion', (col('count') / col('count_total')).cast('Decimal(20,6)')).drop('count_total')\n",
        "grouped_df.show()"
      ]
    },
    {
      "cell_type": "markdown",
      "metadata": {
        "id": "uL7_j21Xixyj"
      },
      "source": [
        "This analysis shows that there isn't a 1:1 correlation between amount and currency. It's evident that there are transactions that don't have the same sending and receiving currency but have the same amount. However, this difference is negligible. Nonetheless, given that this study has shown that all fraudulent transactions have the same currency, but fewer non-fraudulent transactions have the same currency, we'll only consider 'same_amount' as a feature to add. This is because, even if slightly, it offers a greater proportion distinction compared to laundering.\n",
        "\n",
        "It's still worth noting that this feature doesn't lead to a significant separation of the classes, and therefore, in a feature selection process, it might be discarded"
      ]
    },
    {
      "cell_type": "code",
      "execution_count": 26,
      "metadata": {
        "id": "qsjVZE0qixyj"
      },
      "outputs": [],
      "source": [
        "# Add a feature that checks if the sending and receiving currencies are the same\n",
        "df = manager.add_same_currency(df)"
      ]
    },
    {
      "cell_type": "markdown",
      "metadata": {
        "id": "apajULd9ixyj"
      },
      "source": [
        "## Analysis considering the timestamp"
      ]
    },
    {
      "cell_type": "markdown",
      "metadata": {
        "id": "pHepyNhLixyj"
      },
      "source": [
        "First and foremost, it's essential to cast the timestamp from a string to a DateType. In addition to this, I will break down the timestamp into separate components to make it easier to analyze."
      ]
    },
    {
      "cell_type": "code",
      "execution_count": 27,
      "metadata": {
        "colab": {
          "base_uri": "https://localhost:8080/"
        },
        "id": "qiHuEYGnixyj",
        "outputId": "eeb44beb-540d-41fe-b9e3-f0d8c4635902"
      },
      "outputs": [
        {
          "name": "stderr",
          "output_type": "stream",
          "text": [
            "[Stage 87:>                                                         (0 + 1) / 1]\r"
          ]
        },
        {
          "name": "stdout",
          "output_type": "stream",
          "text": [
            "+-------------------+---------+------------+-------+----------+---------------+------------------+-----------+----------------+--------------+-------------+-----+------------+---------+-------------+----+-----+---+----+------+\n",
            "|          timestamp|from_bank|from_account|to_bank|to_account|amount_received|receiving_currency|amount_paid|payment_currency|payment_format|is_laundering|index|same_account|same_bank|same_currency|year|month|day|hour|minute|\n",
            "+-------------------+---------+------------+-------+----------+---------------+------------------+-----------+----------------+--------------+-------------+-----+------------+---------+-------------+----+-----+---+----+------+\n",
            "|2022-09-01 00:20:00|       10|   8000EBD30|     10| 8000EBD30|        3697.34|         US Dollar|    3697.34|       US Dollar|  Reinvestment|            0|    0|           1|        1|            1|2022|    9|  1|   0|    20|\n",
            "|2022-09-01 00:20:00|     3208|   8000F4580|      1| 8000F5340|           0.01|         US Dollar|       0.01|       US Dollar|        Cheque|            0|    1|           0|        0|            1|2022|    9|  1|   0|    20|\n",
            "|2022-09-01 00:00:00|     3209|   8000F4670|   3209| 8000F4670|       14675.57|         US Dollar|   14675.57|       US Dollar|  Reinvestment|            0|    2|           1|        1|            1|2022|    9|  1|   0|     0|\n",
            "|2022-09-01 00:02:00|       12|   8000F5030|     12| 8000F5030|        2806.97|         US Dollar|    2806.97|       US Dollar|  Reinvestment|            0|    3|           1|        1|            1|2022|    9|  1|   0|     2|\n",
            "|2022-09-01 00:06:00|       10|   8000F5200|     10| 8000F5200|       36682.97|         US Dollar|   36682.97|       US Dollar|  Reinvestment|            0|    4|           1|        1|            1|2022|    9|  1|   0|     6|\n",
            "+-------------------+---------+------------+-------+----------+---------------+------------------+-----------+----------------+--------------+-------------+-----+------------+---------+-------------+----+-----+---+----+------+\n",
            "only showing top 5 rows\n",
            "\n"
          ]
        },
        {
          "name": "stderr",
          "output_type": "stream",
          "text": [
            "                                                                                \r"
          ]
        }
      ],
      "source": [
        "df = df.withColumn(\"timestamp\", to_timestamp(\"timestamp\", \"yyyy/MM/dd HH:mm\"))\n",
        "\n",
        "\n",
        "df = df.withColumn(\"year\", year(\"timestamp\"))\\\n",
        "                             .withColumn(\"month\", month(\"timestamp\"))\\\n",
        "                             .withColumn(\"day\", dayofmonth(\"timestamp\"))\\\n",
        "                             .withColumn(\"hour\", hour(\"timestamp\"))\\\n",
        "                             .withColumn(\"minute\", minute(\"timestamp\"))\n",
        "\n",
        "\n",
        "\n",
        "\n",
        "df.cache()\n",
        "df.show(5)"
      ]
    },
    {
      "cell_type": "markdown",
      "metadata": {
        "id": "M7E5gXm0ixyj"
      },
      "source": [
        "### Show laundering by timestamp components"
      ]
    },
    {
      "cell_type": "code",
      "execution_count": 28,
      "metadata": {
        "id": "9nqLMlTEixyj"
      },
      "outputs": [],
      "source": [
        "def laundering_for(df, col_name: str):\n",
        "    print(f\"Laundering for {col_name}\")\n",
        "\n",
        "    df.cache()\n",
        "\n",
        "    df.select(col_name, 'is_laundering') \\\n",
        "      .groupBy(col_name) \\\n",
        "      .agg(\n",
        "          sum(col('is_laundering').cast('int')).alias('count(1)')\n",
        "      ) \\\n",
        "      .withColumn(\"count(0)\", df.count() - col('count(1)')) \\\n",
        "      .withColumn(\"ratio\", (col('count(1)')/col('count(0)')).cast('Decimal(20,6)')) \\\n",
        "      .orderBy(col('ratio').desc()) \\\n",
        "      .limit(100) \\\n",
        "      .show(truncate=False)"
      ]
    },
    {
      "cell_type": "markdown",
      "metadata": {
        "id": "9j24JIXcixyj"
      },
      "source": [
        "#### Laundering per timestamp"
      ]
    },
    {
      "cell_type": "code",
      "execution_count": 29,
      "metadata": {
        "colab": {
          "base_uri": "https://localhost:8080/"
        },
        "id": "fbJo-9sBixyj",
        "outputId": "32e454c3-88fe-4363-eb01-8bd101ab9f46"
      },
      "outputs": [
        {
          "name": "stderr",
          "output_type": "stream",
          "text": [
            "23/08/29 16:05:46 WARN CacheManager: Asked to cache already cached data.\n"
          ]
        },
        {
          "name": "stdout",
          "output_type": "stream",
          "text": [
            "Laundering for year\n"
          ]
        },
        {
          "name": "stderr",
          "output_type": "stream",
          "text": [
            "                                                                                \r"
          ]
        },
        {
          "name": "stdout",
          "output_type": "stream",
          "text": [
            "+----+--------+--------+--------+\n",
            "|year|count(1)|count(0)|ratio   |\n",
            "+----+--------+--------+--------+\n",
            "|2022|5177    |5073168 |0.001020|\n",
            "+----+--------+--------+--------+\n",
            "\n",
            "Laundering for month\n",
            "+-----+--------+--------+--------+\n",
            "|month|count(1)|count(0)|ratio   |\n",
            "+-----+--------+--------+--------+\n",
            "|9    |5177    |5073168 |0.001020|\n",
            "+-----+--------+--------+--------+\n",
            "\n",
            "Laundering for day\n"
          ]
        },
        {
          "name": "stderr",
          "output_type": "stream",
          "text": [
            "23/08/29 16:06:06 WARN CacheManager: Asked to cache already cached data.\n",
            "23/08/29 16:06:06 WARN CacheManager: Asked to cache already cached data.\n"
          ]
        },
        {
          "name": "stdout",
          "output_type": "stream",
          "text": [
            "+---+--------+--------+--------+\n",
            "|day|count(1)|count(0)|ratio   |\n",
            "+---+--------+--------+--------+\n",
            "|8  |539     |5077806 |0.000106|\n",
            "|6  |531     |5077814 |0.000105|\n",
            "|9  |514     |5077831 |0.000101|\n",
            "|7  |497     |5077848 |0.000098|\n",
            "|5  |471     |5077874 |0.000093|\n",
            "|10 |442     |5077903 |0.000087|\n",
            "|4  |407     |5077938 |0.000080|\n",
            "|2  |408     |5077937 |0.000080|\n",
            "|3  |391     |5077954 |0.000077|\n",
            "|1  |322     |5078023 |0.000063|\n",
            "|11 |232     |5078113 |0.000046|\n",
            "|12 |170     |5078175 |0.000033|\n",
            "|13 |106     |5078239 |0.000021|\n",
            "|14 |70      |5078275 |0.000014|\n",
            "|15 |28      |5078317 |0.000006|\n",
            "|16 |26      |5078319 |0.000005|\n",
            "|17 |15      |5078330 |0.000003|\n",
            "|18 |8       |5078337 |0.000002|\n",
            "+---+--------+--------+--------+\n",
            "\n",
            "Laundering for hour\n"
          ]
        },
        {
          "name": "stderr",
          "output_type": "stream",
          "text": [
            "23/08/29 16:06:07 WARN CacheManager: Asked to cache already cached data.\n"
          ]
        },
        {
          "name": "stdout",
          "output_type": "stream",
          "text": [
            "+----+--------+--------+--------+\n",
            "|hour|count(1)|count(0)|ratio   |\n",
            "+----+--------+--------+--------+\n",
            "|12  |336     |5078009 |0.000066|\n",
            "|16  |311     |5078034 |0.000061|\n",
            "|13  |292     |5078053 |0.000058|\n",
            "|11  |295     |5078050 |0.000058|\n",
            "|14  |279     |5078066 |0.000055|\n",
            "|15  |263     |5078082 |0.000052|\n",
            "|17  |257     |5078088 |0.000051|\n",
            "|8   |258     |5078087 |0.000051|\n",
            "|18  |255     |5078090 |0.000050|\n",
            "|10  |234     |5078111 |0.000046|\n",
            "|19  |231     |5078114 |0.000045|\n",
            "|9   |217     |5078128 |0.000043|\n",
            "|6   |207     |5078138 |0.000041|\n",
            "|7   |195     |5078150 |0.000038|\n",
            "|5   |188     |5078157 |0.000037|\n",
            "|0   |176     |5078169 |0.000035|\n",
            "|2   |165     |5078180 |0.000032|\n",
            "|1   |152     |5078193 |0.000030|\n",
            "|4   |154     |5078191 |0.000030|\n",
            "|23  |150     |5078195 |0.000030|\n",
            "+----+--------+--------+--------+\n",
            "only showing top 20 rows\n",
            "\n",
            "Laundering for minute\n"
          ]
        },
        {
          "name": "stderr",
          "output_type": "stream",
          "text": [
            "23/08/29 16:06:07 WARN CacheManager: Asked to cache already cached data.\n"
          ]
        },
        {
          "name": "stdout",
          "output_type": "stream",
          "text": [
            "+------+--------+--------+--------+\n",
            "|minute|count(1)|count(0)|ratio   |\n",
            "+------+--------+--------+--------+\n",
            "|14    |106     |5078239 |0.000021|\n",
            "|44    |104     |5078241 |0.000020|\n",
            "|16    |100     |5078245 |0.000020|\n",
            "|11    |100     |5078245 |0.000020|\n",
            "|22    |96      |5078249 |0.000019|\n",
            "|6     |95      |5078250 |0.000019|\n",
            "|3     |96      |5078249 |0.000019|\n",
            "|49    |98      |5078247 |0.000019|\n",
            "|24    |96      |5078249 |0.000019|\n",
            "|33    |95      |5078250 |0.000019|\n",
            "|18    |96      |5078249 |0.000019|\n",
            "|31    |89      |5078256 |0.000018|\n",
            "|53    |91      |5078254 |0.000018|\n",
            "|27    |92      |5078253 |0.000018|\n",
            "|13    |90      |5078255 |0.000018|\n",
            "|57    |93      |5078252 |0.000018|\n",
            "|48    |91      |5078254 |0.000018|\n",
            "|5     |93      |5078252 |0.000018|\n",
            "|9     |93      |5078252 |0.000018|\n",
            "|4     |92      |5078253 |0.000018|\n",
            "+------+--------+--------+--------+\n",
            "only showing top 20 rows\n",
            "\n"
          ]
        }
      ],
      "source": [
        "#Laundering for year\n",
        "laundering_for(df, 'year')\n",
        "\n",
        "#Laundering for month\n",
        "laundering_for(df, 'month')\n",
        "\n",
        "#Laundering for day\n",
        "laundering_for(df, 'day')\n",
        "\n",
        "#Laundering for hour\n",
        "laundering_for(df, 'hour')\n",
        "\n",
        "#Laundering for minute\n",
        "laundering_for(df, 'minute')\n",
        "\n",
        "df = df.drop('month')\n",
        "df = df.drop('year')"
      ]
    },
    {
      "cell_type": "markdown",
      "metadata": {
        "id": "jQzzmzMGixyk"
      },
      "source": [
        "The dataset contains only one year and one month of transactions, making these features redundant. For this reason, we will remove them."
      ]
    },
    {
      "cell_type": "markdown",
      "metadata": {
        "id": "NfzjNQDeixyk"
      },
      "source": [
        "### Add other time-related features"
      ]
    },
    {
      "cell_type": "code",
      "execution_count": 30,
      "metadata": {
        "id": "074RilJ3ixyk"
      },
      "outputs": [],
      "source": [
        "# Count the number of transactions received by an account over different time periods\n",
        "df = manager.add_trans_received(df)\n",
        "\n",
        "# Count the number of transactions sent by an account over different time periods\n",
        "df = manager.add_trans_send(df)\n",
        "\n",
        "# Count the minutes since the last transaction was sent by an account\n",
        "df = manager.add_minutes_since_last_trans(df)\n",
        "\n",
        "# Count the number of transactions sent to unique accounts and banks over different time periods\n",
        "df = manager.add_unique_to_bank_account(df)\n",
        "\n",
        "# Count the number of transactions sent to unique accounts with the same payment format over different time periods\n",
        "df = manager.add_unique_payment_format(df)\n",
        "\n",
        "# Count the number of transactions sent to unique accounts with the same payment currency over different time periods\n",
        "df = manager.add_unique_payment_currency(df)\n",
        "\n",
        "# Count the number of times an account transacts with another specific account up to the current transaction\n",
        "df = manager.add_transaction_recurrence(df)\n"
      ]
    },
    {
      "cell_type": "code",
      "execution_count": 31,
      "metadata": {
        "colab": {
          "base_uri": "https://localhost:8080/"
        },
        "id": "KVrKfk_fixyk",
        "outputId": "12e7ee1e-e4a1-4eb8-d217-c7d3bff44c27"
      },
      "outputs": [
        {
          "name": "stderr",
          "output_type": "stream",
          "text": [
            "23/08/29 16:06:16 WARN package: Truncated the string representation of a plan since it was too large. This behavior can be adjusted by setting 'spark.sql.debug.maxToStringFields'.\n",
            "[Stage 132:>                                                        (0 + 1) / 1]\r"
          ]
        },
        {
          "name": "stdout",
          "output_type": "stream",
          "text": [
            "+-------------------+---------+------------+-------+----------+---------------+------------------+-----------+----------------+--------------+-------------+-----------+------------+---------+-------------+---+----+------+----------------------------+-----------------------------+-------------------------------+------------------------+-------------------------+---------------------------+------------------------------+------------------------+---------------------------+-------------------------------+--------------------------------+----------------------+\n",
            "|          timestamp|from_bank|from_account|to_bank|to_account|amount_received|receiving_currency|amount_paid|payment_currency|payment_format|is_laundering|      index|same_account|same_bank|same_currency|day|hour|minute|transaction_received_per_day|transaction_received_per_hour|transaction_received_per_minute|transaction_send_per_day|transaction_send_per_hour|transaction_send_per_minute|minutes_since_last_transaction|unique_to_banks_last_day|unique_to_accounts_last_day|unique_payment_formats_last_day|unique_payment_currency_last_day|transaction_recurrence|\n",
            "+-------------------+---------+------------+-------+----------+---------------+------------------+-----------+----------------+--------------+-------------+-----------+------------+---------+-------------+---+----+------+----------------------------+-----------------------------+-------------------------------+------------------------+-------------------------+---------------------------+------------------------------+------------------------+---------------------------+-------------------------------+--------------------------------+----------------------+\n",
            "|2022-09-01 18:14:00|       70|   100428A08|    121| 8000D8E10|       11638.31|       Saudi Riyal|   11638.31|     Saudi Riyal|          Cash|            0| 8590241722|           0|        0|            1|  1|  18|    14|                           6|                            4|                              1|                    1107|                      343|                        144|                           2.0|                      36|                        429|                              3|                               1|                     1|\n",
            "|2022-09-01 18:21:00|       70|   100428A08|    121| 8000D8E10|       26681.89|       Saudi Riyal|   26681.89|     Saudi Riyal|   Credit Card|            0| 8590241721|           0|        0|            1|  1|  18|    21|                           6|                            4|                              2|                    1107|                      343|                        136|                           1.0|                      36|                        432|                              3|                               1|                     2|\n",
            "|2022-09-02 18:33:00|       70|   100428A08|    121| 8000D8E10|       26681.89|       Saudi Riyal|   26681.89|     Saudi Riyal|   Credit Card|            0|17180328802|           0|        0|            1|  2|  18|    33|                           2|                            4|                              1|                    1286|                      343|                        136|                           1.0|                      40|                        529|                              3|                               1|                     3|\n",
            "|2022-09-02 18:53:00|       70|   100428A08|    121| 8000D8E10|       11638.31|       Saudi Riyal|   11638.31|     Saudi Riyal|          Cash|            0|17180328803|           0|        0|            1|  2|  18|    53|                           2|                            4|                              1|                    1286|                      343|                        140|                           1.0|                      40|                        541|                              3|                               1|                     4|\n",
            "|2022-09-05 05:01:00|       70|   100428A08|    121| 8000D8E10|       26681.89|       Saudi Riyal|   26681.89|     Saudi Riyal|   Credit Card|            0|25770312258|           0|        0|            1|  5|   5|     1|                           2|                            2|                              1|                     942|                      298|                        151|                           0.0|                      34|                        222|                              3|                               1|                     5|\n",
            "+-------------------+---------+------------+-------+----------+---------------+------------------+-----------+----------------+--------------+-------------+-----------+------------+---------+-------------+---+----+------+----------------------------+-----------------------------+-------------------------------+------------------------+-------------------------+---------------------------+------------------------------+------------------------+---------------------------+-------------------------------+--------------------------------+----------------------+\n",
            "only showing top 5 rows\n",
            "\n"
          ]
        },
        {
          "name": "stderr",
          "output_type": "stream",
          "text": [
            "                                                                                \r"
          ]
        }
      ],
      "source": [
        "df.show(5)"
      ]
    },
    {
      "cell_type": "markdown",
      "metadata": {
        "id": "L0XkRc1Eixyk"
      },
      "source": [
        "## Labels encoding\n"
      ]
    },
    {
      "cell_type": "code",
      "execution_count": 32,
      "metadata": {
        "colab": {
          "base_uri": "https://localhost:8080/"
        },
        "id": "enViLs4vrUHA",
        "outputId": "9e3d3ea5-13a3-4a5c-84ce-8b329069b2cf"
      },
      "outputs": [
        {
          "name": "stderr",
          "output_type": "stream",
          "text": [
            "                                                                                \r"
          ]
        },
        {
          "data": {
            "text/plain": [
              "5078345"
            ]
          },
          "execution_count": 32,
          "metadata": {},
          "output_type": "execute_result"
        }
      ],
      "source": [
        "mapping_format = manager.create_mapping(df, 'payment_format')\n",
        "mapping_currency = manager.create_mapping(df, 'payment_currency', 'receiving_currency')\n",
        "mapping_account = manager.create_mapping(df, 'from_account', 'to_account')\n",
        "\n",
        "manager.mapping_format = mapping_format\n",
        "manager.mapping_currency = mapping_currency\n",
        "manager.mapping_account = mapping_account\n",
        "\n",
        "df = manager.label_columns(df, 'receiving_currency', manager.mapping_currency, 'payment_currency')\n",
        "df = manager.label_columns(df, 'from_account', manager.mapping_account, 'to_account')\n",
        "df = manager.label_columns(df,'payment_format', manager.mapping_format)\n",
        "\n",
        "df.persist().count()"
      ]
    },
    {
      "cell_type": "markdown",
      "metadata": {
        "id": "2Hz_h8Vlixyk"
      },
      "source": [
        "## Display correlation matrix\n",
        "\n",
        "A correlation matrix is a table showing the correlation coefficients between variables. Each cell in the table shows the correlation between two variables. The value is in the range of -1 to 1. If two variables have high correlation, it means when one variable changes, the second tends to change in a specific direction. A value close to 1 implies a strong positive correlation: as one variable increases, the other also tends to increase. A value close to -1 implies a strong negative correlation: as one variable increases, the other tends to decrease. A value close to 0 implies a weak or no linear correlation between the variables."
      ]
    },
    {
      "cell_type": "code",
      "execution_count": 33,
      "metadata": {
        "id": "6ws7ioN4ixyk"
      },
      "outputs": [],
      "source": [
        "def print_correlation(df):\n",
        "    columns = df.columns\n",
        "    assembler = VectorAssembler(inputCols=columns, outputCol=\"features\")\n",
        "    feature_vector = assembler.transform(df)\n",
        "\n",
        "    matrix = Correlation.corr(feature_vector, \"features\").collect()[0][0]\n",
        "    corr_matrix = np.array(matrix.toArray())\n",
        "\n",
        "    plt.figure(figsize=(20, 10))\n",
        "    sns.heatmap(corr_matrix, xticklabels=columns, yticklabels=columns)"
      ]
    },
    {
      "cell_type": "code",
      "execution_count": 34,
      "metadata": {
        "colab": {
          "base_uri": "https://localhost:8080/",
          "height": 412
        },
        "id": "7GJWVCi4uwXc",
        "outputId": "756ea800-0a6f-41d6-c91c-6e773edb0437"
      },
      "outputs": [
        {
          "name": "stderr",
          "output_type": "stream",
          "text": [
            "23/08/29 16:09:03 WARN InstanceBuilder$NativeBLAS: Failed to load implementation from:dev.ludovic.netlib.blas.JNIBLAS\n",
            "23/08/29 16:09:03 WARN InstanceBuilder$NativeBLAS: Failed to load implementation from:dev.ludovic.netlib.blas.ForeignLinkerBLAS\n",
            "                                                                                \r"
          ]
        },
        {
          "data": {
            "image/png": "[encoded data removed]",
            "text/plain": [
              "<Figure size 2000x1000 with 2 Axes>"
            ]
          },
          "metadata": {},
          "output_type": "display_data"
        }
      ],
      "source": [
        "print_correlation(df.drop('timestamp').drop('index').drop('year').drop('month'))"
      ]
    },
    {
      "cell_type": "markdown",
      "metadata": {
        "id": "WilI6qYuwpoR"
      },
      "source": [
        "The correlation matrix shows that there are no strong correlations between the labels and the features under consideration. Conversely, it can be observed that some features are closely correlated with each other, which could lead to data redundancy. Additionally, the increased number of features could complicate the model and cause overfitting. However, the strong correlations are addressed since a random forest learning model is used, which samples and selects different features for each tree."
      ]
    },
    {
      "cell_type": "markdown",
      "metadata": {
        "id": "xTQuaLkdwgN9"
      },
      "source": [
        "## Save dataframe in parquet format"
      ]
    },
    {
      "cell_type": "code",
      "execution_count": 35,
      "metadata": {
        "id": "TWKGSqA8wlN4"
      },
      "outputs": [
        {
          "name": "stderr",
          "output_type": "stream",
          "text": [
            "                                                                                \r"
          ]
        }
      ],
      "source": [
        "manager.save_on_disk(df, 'partial_results', 'parquet')"
      ]
    },
    {
      "cell_type": "code",
      "execution_count": 36,
      "metadata": {
        "colab": {
          "base_uri": "https://localhost:8080/"
        },
        "id": "xnxgJxfz6lOn",
        "outputId": "9fb17a8f-77fb-441e-8d69-ee86fb7fa496"
      },
      "outputs": [
        {
          "data": {
            "text/plain": [
              "10391"
            ]
          },
          "execution_count": 36,
          "metadata": {},
          "output_type": "execute_result"
        }
      ],
      "source": [
        "df.unpersist()\n",
        "del df\n",
        "gc.collect()"
      ]
    },
    {
      "cell_type": "markdown",
      "metadata": {
        "id": "h0N63wJzixyk"
      },
      "source": [
        "# Data Organization and Pre-processing\n",
        "\n",
        "In this section, we will split the dataset to train and test the models. The chosen division is 60% for the Training set, 20% for the Validation set (for hyperparameter tuning), and 20% for the Test set. This division was suggested by the description provided on the Kaggle website regarding this dataset.\n",
        "\n",
        "Once the dataset is divided, we will perform data preprocessing. As a result, features that are not useful for prediction will be removed, and finally, the various data sets will be saved for future use."
      ]
    },
    {
      "cell_type": "markdown",
      "metadata": {
        "id": "2gjk3ykiixyk"
      },
      "source": [
        "## Data splitting\n",
        "\n",
        "As mentioned earlier, the data is divided into 60% for training, 20% for validation, and 20% for testing.\n",
        "\n",
        "Before performing the split, the data is sorted by timestamp and then divided sequentially. Typically, this procedure wouldn't be followed. However, it's done this way because the logic of the transactions is based on time, and many features are connected to it. If the data were taken randomly, the temporal features would become much less significant.\n"
      ]
    },
    {
      "cell_type": "code",
      "execution_count": null,
      "metadata": {
        "id": "jk6rxWwZixyk"
      },
      "outputs": [],
      "source": [
        "df = spark.read.parquet('partial_results/df.parquet')\n",
        "ordered_df = df.orderBy(\"timestamp\")\n",
        "\n",
        "ordered_df.cache()\n",
        "\n",
        "# Calculate row counts for splits\n",
        "total_rows = ordered_df.count()\n",
        "train_rows, validation_rows = int(total_rows * 0.6), int(total_rows * 0.2)\n",
        "test_rows = total_rows - train_rows - validation_rows\n",
        "\n",
        "# Add a dummy partition and assign row numbers based on ordered timestamps\n",
        "w = Window.partitionBy(lit(1)).orderBy(\"timestamp\")\n",
        "ordered_df = ordered_df.withColumn(\"row_number\", F.row_number().over(w))\n",
        "\n",
        "# Split and repartition the DataFrame into train, validation, and test sets based on row numbers\n",
        "train_df = ordered_df.filter(col(\"row_number\") <= train_rows).drop(\"row_number\", \"dummy_partition\").repartition(32)\n",
        "validation_df = ordered_df.filter(col(\"row_number\").between(train_rows + 1, train_rows + validation_rows)).drop(\"row_number\", \"dummy_partition\").repartition(32)\n",
        "test_df = ordered_df.filter(col(\"row_number\") > train_rows + validation_rows).drop(\"row_number\", \"dummy_partition\").repartition(32)"
      ]
    },
    {
      "cell_type": "markdown",
      "metadata": {
        "id": "HhCT6rgrixyl"
      },
      "source": [
        "## Calculate features over splitted data and save\n",
        "\n",
        "In this section, I will perform pre-processing on the data. Hence, all necessary features used for the analysis are calculated, and features deemed unimportant are removed.\n",
        "\n",
        "In this case, the removed features are the sending and receiving banks, as they are expected to be of minor significance in a system where, perhaps, the model is trained on specific types of banks and then used to predict data where the same banks don't appear. The reasoning is the same for the sending and receiving account. Furthermore, it was decided to remove the amounts since the initial analyses showed them to be of little utility and quite random.\n",
        "\n",
        "Index and timestamp are removed as they are unnecessary for training and using the model."
      ]
    },
    {
      "cell_type": "code",
      "execution_count": 48,
      "metadata": {
        "colab": {
          "base_uri": "https://localhost:8080/"
        },
        "id": "7z7bwcUVixyl",
        "outputId": "a9d08a6e-e711-4ba3-bb31-df37370ec9de"
      },
      "outputs": [],
      "source": [
        "train_df = manager.add_features(train_df)\n",
        "\n",
        "test_df = manager.add_features(test_df)\n",
        "\n",
        "validation_df = manager.add_features(validation_df)"
      ]
    },
    {
      "cell_type": "markdown",
      "metadata": {
        "id": "AY0Q-61eixyl"
      },
      "source": [
        "## Feature selection\n",
        "\n",
        "The previously saved datasets contain a large number of features, but not necessarily all these features are useful for a good predictive model. For this reason, I decided to use a feature selection technique called Boruta.\n",
        "\n",
        "Boruta is a feature selection algorithm for random forest-based models. It identifies and retains the most important features for prediction while eliminating irrelevant or redundant ones. Boruta operates by comparing the importance of the original features with that of random \"shadow\" features. If an original feature is deemed less important than a shadow feature, it's considered irrelevant and removed."
      ]
    },
    {
      "cell_type": "code",
      "execution_count": 49,
      "metadata": {
        "colab": {
          "base_uri": "https://localhost:8080/"
        },
        "id": "TVD6d0Qdixyl",
        "outputId": "dc8f7975-8dd1-47c0-c19b-e2da111b0f58"
      },
      "outputs": [
        {
          "name": "stderr",
          "output_type": "stream",
          "text": [
            "                                                                                \r"
          ]
        }
      ],
      "source": [
        "!pip install boruta\n",
        "if not skip_boruta:\n",
        "\n",
        "    from boruta import BorutaPy\n",
        "    from sklearn.ensemble import RandomForestClassifier\n",
        "\n",
        "    manager = Manager()\n",
        "    \n",
        "    manager.save_on_disk(train_df.sample(withReplacement=False, fraction=0.1, seed=0), 'partial_results', 'train_boruta')\n",
        "\n",
        "    #save to parquet\n",
        "    train_pd = pd.read_parquet('./partial_results/df.train_boruta')\n",
        "\n",
        "    X_train = train_pd.drop('is_laundering', axis=1)\n",
        "    y_train = train_pd['is_laundering']"
      ]
    },
    {
      "cell_type": "code",
      "execution_count": 50,
      "metadata": {
        "colab": {
          "base_uri": "https://localhost:8080/",
          "height": 488
        },
        "id": "MocT9rrPixyl",
        "outputId": "c68f4692-172d-4f3a-d6e3-3c9cbc26d70c"
      },
      "outputs": [],
      "source": [
        "if not skip_boruta:\n",
        "\n",
        "    rf = RandomForestClassifier(n_jobs=-1, class_weight='balanced_subsample', n_estimators=10, random_state=0)\n",
        "\n",
        "    boruta_selector = BorutaPy(rf, n_estimators='auto', random_state=0, max_iter=50)\n",
        "\n",
        "    boruta_selector.fit(np.array(X_train.values), np.array(y_train.values.ravel()))\n",
        "\n",
        "    X_train_selected = boruta_selector.transform(X_train.values)"
      ]
    },
    {
      "cell_type": "code",
      "execution_count": 51,
      "metadata": {
        "id": "HWJ2GpQXixyl"
      },
      "outputs": [
        {
          "name": "stdout",
          "output_type": "stream",
          "text": [
            "Selected Features: Index(['same_account', 'same_bank', 'day', 'minute',\n",
            "       'transaction_received_per_day', 'transaction_received_per_hour',\n",
            "       'transaction_send_per_day', 'transaction_send_per_hour',\n",
            "       'transaction_send_per_minute', 'minutes_since_last_transaction',\n",
            "       'unique_to_banks_last_day', 'unique_to_accounts_last_day',\n",
            "       'unique_payment_formats_last_day', 'unique_payment_currency_last_day',\n",
            "       'transaction_recurrence', 'payment_format'],\n",
            "      dtype='object')\n",
            "Removed Features: Index(['same_currency', 'hour', 'transaction_received_per_minute',\n",
            "       'receiving_currency', 'payment_currency'],\n",
            "      dtype='object')\n"
          ]
        }
      ],
      "source": [
        "if not skip_boruta:\n",
        "    selected_features = X_train.columns[boruta_selector.support_]\n",
        "    removed_features = X_train.columns[[True if x == False else False for x in boruta_selector.support_]]\n",
        "    print(\"Selected Features:\", selected_features)\n",
        "    print(\"Removed Features:\", removed_features)"
      ]
    },
    {
      "cell_type": "markdown",
      "metadata": {
        "id": "UHI8vHDFixyl"
      },
      "source": [
        "Boruta has selected five features that it deems unnecessary, so I will remove them from the data sets. It's noteworthy that among the unselected features is 'same_currency', which from the preliminary analysis appeared to be of little significance."
      ]
    },
    {
      "cell_type": "code",
      "execution_count": 52,
      "metadata": {
        "id": "bUxpZ0twixyl"
      },
      "outputs": [],
      "source": [
        "def mantain_boruta_selected_features(df, name, features):\n",
        "    features_to_select = list(selected_features)\n",
        "    features_to_select.append('is_laundering')\n",
        "    manager.save_on_disk(df.select(*features_to_select), 'processed_data', name)"
      ]
    },
    {
      "cell_type": "code",
      "execution_count": 53,
      "metadata": {
        "colab": {
          "base_uri": "https://localhost:8080/"
        },
        "id": "t2pcEjVJixyl",
        "outputId": "f34b450f-1b68-4ca2-f86d-04465023731c"
      },
      "outputs": [
        {
          "name": "stderr",
          "output_type": "stream",
          "text": [
            "                                                                                \r"
          ]
        }
      ],
      "source": [
        "mantain_boruta_selected_features(train_df, 'train', selected_features)\n",
        "mantain_boruta_selected_features(test_df, 'test', selected_features)\n",
        "mantain_boruta_selected_features(validation_df, 'val', selected_features)\n"
      ]
    },
    {
      "cell_type": "code",
      "execution_count": null,
      "metadata": {},
      "outputs": [],
      "source": [
        "\n",
        "import gc\n",
        "del ordered_df, train_df, test_df, validation_df, df\n",
        "gc.collect()"
      ]
    },
    {
      "cell_type": "markdown",
      "metadata": {
        "id": "IIAwz0gsixyl"
      },
      "source": [
        "# Decision Tree Classifier\n",
        "\n",
        "At this point, it's possible to implement the decision tree from scratch. A Decision Tree Classifier is a supervised learning algorithm that uses a tree structure to make decisions. Each node of the tree represents a question or a condition about the data, while each branch represents a possible outcome of that question. The leaves of the tree represent the final classifications of the data. The algorithm learns how to split the data based on features to produce the most accurate decisions/classifications possible.\n",
        "\n",
        "The tree will initially be tested using sample data taken from the scikit-learn library. For this purpose, I have chosen to use the Breast Tumor dataset as it presents a binary classification and a large number of features, allowing for testing the tree's effectiveness. It will then be compared to the decision tree classifier available directly in the scikit-learn library."
      ]
    },
    {
      "cell_type": "markdown",
      "metadata": {
        "id": "N3VBDYXHixyl"
      },
      "source": [
        "## Implementation of the tree from scratch\n",
        "\n"
      ]
    },
    {
      "cell_type": "code",
      "execution_count": 18,
      "metadata": {
        "id": "F76dRSKtixym"
      },
      "outputs": [],
      "source": [
        "class DTC():\n",
        "    def __init__(self, random_state = None, max_depth = None, min_sample_split = 2, criterion = \"gini\", min_info_gain = 0, max_features = None, max_thresholds = None, class_weights = {}, verbose=False):\n",
        "        \"\"\"\n",
        "        Initializes the Decision Tree Classifier.\n",
        "\n",
        "        Parameters:\n",
        "        - random_state: int or None, optional (default=None)\n",
        "            Seed for the random number generator.\n",
        "        - max_depth: int or None, optional (default=None)\n",
        "            The maximum depth of the decision tree. If None, the tree is grown until all leaves are pure or until all leaves contain fewer than min_sample_split samples.\n",
        "        - min_sample_split: int, optional (default=2)\n",
        "            The minimum number of samples required to split an internal node.\n",
        "        - criterion: str, optional (default=\"gini\")\n",
        "            The function to measure the quality of a split. Supported criteria are \"gini\" for the Gini impurity, \"entropy\" for the information gain, and \"shannon\" for the Shannon entropy.\n",
        "        - min_info_gain: float, optional (default=0)\n",
        "            The minimum information gain required to split an internal node.\n",
        "        - max_features: int, float, \"sqrt\", \"log2\", or None, optional (default=None)\n",
        "            The number of features to consider when looking for the best split.\n",
        "        - max_thresholds: int or None, optional (default=None)\n",
        "            The maximum number of thresholds to consider for each feature when looking for the best split.\n",
        "        - class_weights: dict, optional (default={})\n",
        "            Weights associated with classes in the form {class_label: weight}. If provided, the class probabilities are multiplied by the corresponding weight.\n",
        "\n",
        "        Returns:\n",
        "        None\n",
        "        \"\"\"\n",
        "\n",
        "        self.max_depth = max_depth\n",
        "        self.min_sample_split = min_sample_split\n",
        "        self.criterion = criterion\n",
        "        self.min_info_gain = min_info_gain\n",
        "        self.max_features = max_features\n",
        "        self.max_thresholds = max_thresholds\n",
        "        self.class_weights = class_weights\n",
        "        self.tree = None\n",
        "        self.random_state = random_state\n",
        "        np.random.seed(self.random_state)\n",
        "        self.node_counter = 0\n",
        "        self.verbose = verbose\n",
        "\n",
        "\n",
        "\n",
        "    def fit(self, X, y):\n",
        "        \"\"\"\n",
        "        Fits the decision tree classifier to the training data.\n",
        "\n",
        "        Parameters:\n",
        "        - X: array-like of shape (n_samples, n_features)\n",
        "            The training input samples.\n",
        "        - y: array-like of shape (n_samples,)\n",
        "            The target values.\n",
        "\n",
        "        Returns:\n",
        "        None\n",
        "        \"\"\"\n",
        "        self.node_counter = 0\n",
        "        if isinstance(X, pd.DataFrame):\n",
        "            X = np.array(X)\n",
        "        if isinstance(y, pd.DataFrame):\n",
        "            y = np.array(y)\n",
        "\n",
        "        self.tree = self.__create_tree(X, y)\n",
        "\n",
        "    def __calculate_split_entropy(self, y):\n",
        "        \"\"\"\n",
        "        Calculates the split entropy for a given target variable.\n",
        "\n",
        "        Parameters:\n",
        "        - y: array-like of shape (n_samples,)\n",
        "            The target values.\n",
        "\n",
        "        Returns:\n",
        "        split_criterion: float\n",
        "            The split criterion value.\n",
        "        \"\"\"\n",
        "\n",
        "        unique_values, value_counts = np.unique(y, return_counts=True)\n",
        "        class_probabilities = value_counts / len(y)\n",
        "\n",
        "        if len(self.class_weights) > 0 and len(unique_values) > 0:\n",
        "            class_probabilities *= np.array([self.class_weights.get(value, 1.0) for value in unique_values])\n",
        "\n",
        "        split_criteria = {\n",
        "            'shannon': lambda probs: -np.sum(probs * np.log2(probs)),\n",
        "            'entropy': lambda probs: -np.sum(probs * np.log2(probs + 1e-10)),\n",
        "            'gini': lambda probs:  1 - np.sum(probs ** 2)\n",
        "        }\n",
        "\n",
        "        split_criterion_function = split_criteria.get(self.criterion, split_criteria['gini'])\n",
        "        split_criterion = split_criterion_function(class_probabilities)\n",
        "\n",
        "        return split_criterion\n",
        "\n",
        "\n",
        "    def __calculate_info_gain(self, X, y, feature, threshold):\n",
        "        \"\"\"\n",
        "        Calculates the information gain for a given feature and threshold.\n",
        "\n",
        "        Parameters:\n",
        "        - X: array-like of shape (n_samples, n_features)\n",
        "            The input samples.\n",
        "        - y: array-like of shape (n_samples,)\n",
        "            The target values.\n",
        "        - feature: int\n",
        "            The index of the feature.\n",
        "        - threshold: float\n",
        "            The threshold value.\n",
        "\n",
        "        Returns:\n",
        "        info_gain: float\n",
        "            The information gain.\n",
        "        \"\"\"\n",
        "\n",
        "        left_indeces = X[:, feature] <= threshold\n",
        "        right_indeces = X[:, feature] > threshold\n",
        "\n",
        "        left_labels = y[left_indeces]\n",
        "        right_labels = y[right_indeces]\n",
        "\n",
        "        left_side_entropy = self.__calculate_split_entropy(left_labels)\n",
        "        right_side_entropy = self.__calculate_split_entropy(right_labels)\n",
        "\n",
        "\n",
        "        weighted_left_side_entropy = (len(left_labels) / len(y)) * left_side_entropy\n",
        "        weighted_right_side_entropy = (len(right_labels) / len(y)) * right_side_entropy\n",
        "\n",
        "        parent_entropy = self.__calculate_split_entropy(y)\n",
        "\n",
        "        info_gain = parent_entropy - (weighted_left_side_entropy + weighted_right_side_entropy)\n",
        "\n",
        "        return info_gain\n",
        "\n",
        "\n",
        "    def __get_features(self, n_features):\n",
        "        \"\"\"\n",
        "        Returns the indices of the features to consider for splitting.\n",
        "\n",
        "        Parameters:\n",
        "        - n_features: int\n",
        "            The total number of features.\n",
        "\n",
        "        Returns:\n",
        "        columns_id: list\n",
        "            The indices of the features to consider.\n",
        "        \"\"\"\n",
        "\n",
        "        np.random.seed(self.random_state + self.node_counter if self.random_state is not None else None)\n",
        "        if self.max_features is not None:\n",
        "            if self.max_features == \"sqrt\":\n",
        "                columns_id = np.random.choice(range(n_features), int(math.sqrt(n_features)), replace=False)\n",
        "            elif self.max_features == \"log2\":\n",
        "                columns_id = np.random.choice(range(n_features), int(math.log2(n_features)), replace=False)\n",
        "            elif isinstance(self.max_features, int):\n",
        "                if self.max_features > n_features:\n",
        "                    raise ValueError(\"Max features > number of features\")\n",
        "                elif self.max_features <= 0:\n",
        "                    raise ValueError(\"Max features must be > 0\")\n",
        "                columns_id = np.random.choice(range(n_features), self.max_features, replace=False)\n",
        "            elif isinstance(self.max_features, float):\n",
        "                if self.max_features > 1:\n",
        "                    raise ValueError(\"Max features > number of features\")\n",
        "                elif self.max_features <= 0:\n",
        "                    raise ValueError(\"Max features must be > 0\")\n",
        "                columns_id = np.random.choice(range(n_features), int(n_features * self.max_features), replace=False)\n",
        "        else:\n",
        "            columns_id = list(range(n_features))\n",
        "\n",
        "        return columns_id\n",
        "\n",
        "\n",
        "    def __get_thresholds(self, X, feature):\n",
        "        \"\"\"\n",
        "        Returns the thresholds to consider for a given feature.\n",
        "\n",
        "        Parameters:\n",
        "        - X: array-like of shape (n_samples, n_features)\n",
        "            The input samples.\n",
        "        - feature: int\n",
        "            The index of the feature.\n",
        "\n",
        "        Returns:\n",
        "        thresholds: array-like\n",
        "            The thresholds to consider.\n",
        "        \"\"\"\n",
        "        np.random.seed(self.random_state + self.node_counter if self.random_state is not None else None)\n",
        "        if self.max_thresholds is not None:\n",
        "            if self.max_thresholds <= 0:\n",
        "                raise ValueError(\"max_thresholds must be > 0\")\n",
        "            thresholds = np.percentile(X[:, feature], np.linspace(0, 100, self.max_thresholds))\n",
        "        else:\n",
        "            unique_vals = np.unique(X[:, feature])\n",
        "            thresholds = (unique_vals[1:] + unique_vals[:-1]) / 2\n",
        "        return thresholds\n",
        "\n",
        "\n",
        "\n",
        "    def __calculate_best_split(self, X, y):\n",
        "        \"\"\"\n",
        "        Calculates the best split for the given input samples and target values.\n",
        "\n",
        "        Parameters:\n",
        "        - X: array-like of shape (n_samples, n_features)\n",
        "            The input samples.\n",
        "        - y: array-like of shape (n_samples,)\n",
        "            The target values.\n",
        "\n",
        "        Returns:\n",
        "        best_feature: int\n",
        "            The index of the best feature to split on.\n",
        "        best_threshold: float\n",
        "            The best threshold value.\n",
        "        best_info_gain: float\n",
        "            The information gain of the best split.\n",
        "        \"\"\"\n",
        "\n",
        "        best_threshold = None\n",
        "        best_info_gain = -np.inf\n",
        "        best_feature = None\n",
        "        self.node_counter += 1\n",
        "        features = self.__get_features(X.shape[1])\n",
        "\n",
        "        for feature in features:\n",
        "            threholds = self.__get_thresholds(X, feature)\n",
        "\n",
        "            for threshold in threholds:\n",
        "                info_gain = self.__calculate_info_gain(X, y, feature, threshold)\n",
        "                if best_info_gain < info_gain:\n",
        "                    best_threshold = threshold\n",
        "                    best_feature = feature\n",
        "                    best_info_gain = info_gain\n",
        "\n",
        "        return best_feature, best_threshold, best_info_gain\n",
        "\n",
        "\n",
        "    def __create_tree(self, X, y, depth = 0):\n",
        "        \"\"\"\n",
        "        Recursively creates the decision tree.\n",
        "\n",
        "        Parameters:\n",
        "        - X: array-like of shape (n_samples, n_features)\n",
        "            The input samples.\n",
        "        - y: array-like of shape (n_samples,)\n",
        "            The target values.\n",
        "        - depth: int, optional (default=0)\n",
        "            The current depth of the tree.\n",
        "\n",
        "        Returns:\n",
        "        tree: dict\n",
        "            The decision tree.\n",
        "        \"\"\"\n",
        "        samples = X.shape[0]\n",
        "\n",
        "        if samples < self.min_sample_split or (self.max_depth != None and depth >= self.max_depth):\n",
        "            return self.__create_leaf_node(y)\n",
        "\n",
        "        best_feature, best_threshold, best_info_gain = self.__calculate_best_split(X, y)\n",
        "\n",
        "        if(best_info_gain <= self.min_info_gain):\n",
        "            return self.__create_leaf_node(y)\n",
        "\n",
        "        left_indices = X[:, best_feature] <= best_threshold\n",
        "        right_indices = X[:, best_feature] > best_threshold\n",
        "\n",
        "        left_child = self.__create_tree(X[left_indices], y[left_indices], depth + 1)\n",
        "        right_child = self.__create_tree(X[right_indices], y[right_indices], depth + 1)\n",
        "\n",
        "        if 'label' in left_child and 'label' in right_child:\n",
        "            if left_child['label'] == right_child['label']:\n",
        "                return {\n",
        "                    'label': left_child['label'],\n",
        "                    'samples': len(y)\n",
        "                }\n",
        "\n",
        "\n",
        "        return {\n",
        "            'splitting_threshold': best_threshold,\n",
        "            'splitting_feature': best_feature,\n",
        "            'info_gain': best_info_gain,\n",
        "            'left_child': left_child,\n",
        "            'right_child': right_child\n",
        "        }\n",
        "\n",
        "\n",
        "\n",
        "    def __create_leaf_node(self, y):\n",
        "        \"\"\"\n",
        "        Creates a leaf node for the decision tree.\n",
        "\n",
        "        Parameters:\n",
        "        - y: array-like of shape (n_samples,)\n",
        "            The target values.\n",
        "\n",
        "        Returns:\n",
        "        leaf_node: dict\n",
        "            The leaf node.\n",
        "        \"\"\"\n",
        "        majority_class = Counter(y).most_common(1)[0][0]\n",
        "        return {\n",
        "            'label': majority_class,\n",
        "            'samples': len(y)\n",
        "        }\n",
        "\n",
        "\n",
        "    def predict(self, X):\n",
        "        \"\"\"\n",
        "        Predicts the class labels for the input samples.\n",
        "\n",
        "        Parameters:\n",
        "        - X: array-like of shape (n_samples, n_features)\n",
        "            The input samples.\n",
        "\n",
        "        Returns:\n",
        "        predictions: array-like of shape (n_samples,)\n",
        "            The predicted class labels.\n",
        "        \"\"\"\n",
        "\n",
        "        if(isinstance(X, pd.DataFrame)):\n",
        "            X = np.array(X)\n",
        "\n",
        "        predictions = []\n",
        "        for sample in X:\n",
        "            prediction = self.__traverse_tree(sample, self.tree)\n",
        "            predictions.append(prediction)\n",
        "        return np.array(predictions)\n",
        "\n",
        "    def calculate_metrics(self, y_true, y_pred):\n",
        "\n",
        "        \"\"\"\n",
        "        Calculate performance metrics: precision, recall, f1-score, and accuracy.\n",
        "\n",
        "        Parameters:\n",
        "        - y_true: list, true class labels.\n",
        "        - y_pred: list, predicted class labels by the model.\n",
        "\n",
        "        Returns:\n",
        "        - precision: float, precision metric.\n",
        "        - recall: float, recall metric.\n",
        "        - f1_score: float, f1-score metric.\n",
        "        - accuracy: float, accuracy metric.\n",
        "        \"\"\"\n",
        "\n",
        "\n",
        "        TP = 0\n",
        "        TN = 0\n",
        "        FP = 0\n",
        "        FN = 0\n",
        "\n",
        "\n",
        "        for true, pred in zip(y_true, y_pred):\n",
        "            if true == 1 and pred == 1:\n",
        "                TP += 1\n",
        "            elif true == 0 and pred == 0:\n",
        "                TN += 1\n",
        "            elif true == 1 and pred == 0:\n",
        "                FN += 1\n",
        "            elif true == 0 and pred == 1:\n",
        "                FP += 1\n",
        "\n",
        "\n",
        "        precision = TP / (TP + FP) if (TP + FP) != 0 else 0\n",
        "        recall = TP / (TP + FN) if (TP + FN) != 0 else 0\n",
        "        f1_score = 2 * (precision * recall) / (precision + recall) if (precision + recall) != 0 else 0\n",
        "        accuracy = (TP + TN) / (TP + TN + FP + FN)\n",
        "\n",
        "        return precision, recall, f1_score, accuracy\n",
        "\n",
        "    def score(self, X, y):\n",
        "\n",
        "      \"\"\"\n",
        "      Compute and return the f1 score for the given test data and labels.\n",
        "\n",
        "      Parameters:\n",
        "      - X: pd.DataFrame or np.array\n",
        "          Test data. Can be a DataFrame or a Numpy array.\n",
        "      - y: pd.DataFrame or np.array\n",
        "          True labels for the test data. Can be a DataFrame or a Numpy array.\n",
        "\n",
        "      Returns:\n",
        "      - float\n",
        "          f1 score of the model on the given test data and labels.\n",
        "\n",
        "      \"\"\"\n",
        "\n",
        "      if(isinstance(y, pd.DataFrame)):\n",
        "          y = np.array(y)\n",
        "      if(isinstance(X, pd.DataFrame)):\n",
        "          X = np.array(X)\n",
        "\n",
        "\n",
        "      y_pred = self.predict(X)\n",
        "\n",
        "\n",
        "      return f1_score(y, y_pred)\n",
        "\n",
        "\n",
        "    def __traverse_tree(self, sample, node):\n",
        "        \"\"\"\n",
        "        Traverses the decision tree to predict the class label for a given sample.\n",
        "\n",
        "        Parameters:\n",
        "        - sample: array-like of shape (n_features,)\n",
        "            The input sample.\n",
        "        - node: dict\n",
        "            The current node of the decision tree.\n",
        "\n",
        "        Returns:\n",
        "        label: int\n",
        "            The predicted class label.\n",
        "        \"\"\"\n",
        "\n",
        "        if 'label' in node:\n",
        "            return node['label']\n",
        "        else:\n",
        "            if sample[node['splitting_feature']] <= node['splitting_threshold']:\n",
        "                return self.__traverse_tree(sample, node['left_child'])\n",
        "            else:\n",
        "                return self.__traverse_tree(sample, node['right_child'])\n",
        "\n",
        "    def __recursive_print(self, node, indent=\"\"):\n",
        "        \"\"\"Recursively print the decision tree.\n",
        "\n",
        "        Parameters\n",
        "        ----------\n",
        "        node\n",
        "            The current node to be printed.\n",
        "        indent : str, default=\"\"\n",
        "            The indentation string for formatting the tree.\n",
        "        \"\"\"\n",
        "        if 'label' in node:\n",
        "            print(\"{}leaf - label: {} \".format(indent, node['label']))\n",
        "            return\n",
        "\n",
        "        print(\"{}id:{} - threshold: {}\".format(indent,\n",
        "              node['splitting_feature'], node['splitting_threshold']))\n",
        "\n",
        "        self.__recursive_print(node['left_child'], \"{}   \".format(indent))\n",
        "        self.__recursive_print(node['right_child'], \"{}   \".format(indent))\n",
        "\n",
        "    def print_tree(self):\n",
        "        \"\"\"Display the decision tree structure.\"\"\"\n",
        "        self.__recursive_print(self.tree)"
      ]
    },
    {
      "cell_type": "markdown",
      "metadata": {
        "id": "d3nh6fsuixym"
      },
      "source": [
        "## Test with scikit-learn library"
      ]
    },
    {
      "cell_type": "code",
      "execution_count": 56,
      "metadata": {
        "id": "AFMqLJpDixym"
      },
      "outputs": [],
      "source": [
        "from sklearn.datasets import load_breast_cancer\n",
        "from sklearn.tree import DecisionTreeClassifier\n",
        "from sklearn.model_selection import train_test_split\n",
        "\n",
        "data = load_breast_cancer(as_frame=False)\n",
        "\n",
        "X_train, X_test, y_train, y_test = train_test_split(np.array(data['data']), np.array(data['target']), test_size=0.2, random_state=0)"
      ]
    },
    {
      "cell_type": "code",
      "execution_count": 57,
      "metadata": {
        "id": "SVZJmahXixym"
      },
      "outputs": [],
      "source": [
        "clf = DecisionTreeClassifier(random_state=0)\n",
        "dtc = DTC(random_state=0)"
      ]
    },
    {
      "cell_type": "code",
      "execution_count": 58,
      "metadata": {
        "id": "a-8eSslzixym"
      },
      "outputs": [
        {
          "data": {
            "text/plain": [
              "0.9122807017543859"
            ]
          },
          "execution_count": 58,
          "metadata": {},
          "output_type": "execute_result"
        }
      ],
      "source": [
        "clf.fit(X_train, y_train)\n",
        "clf.score(X_test, y_test)"
      ]
    },
    {
      "cell_type": "code",
      "execution_count": 59,
      "metadata": {
        "id": "p0x-GXIuixym"
      },
      "outputs": [
        {
          "data": {
            "text/plain": [
              "0.9122807017543859"
            ]
          },
          "execution_count": 59,
          "metadata": {},
          "output_type": "execute_result"
        }
      ],
      "source": [
        "dtc.fit(X_train, y_train)\n",
        "dtc.score(X_test, y_test)"
      ]
    },
    {
      "cell_type": "markdown",
      "metadata": {
        "id": "A3bKLpYCixym"
      },
      "source": [
        "## Hyperparameter Tuning\n",
        "\n",
        "After implementing the tree, before testing it definitively on the data, I will perform hyperparameter tuning to maximize the model's performance. The tuning is done using the Hyperopt library, which trains and calculates the score on the validation set with different hyperparameter combinations."
      ]
    },
    {
      "cell_type": "code",
      "execution_count": 111,
      "metadata": {
        "id": "FvJKlP9rixym"
      },
      "outputs": [],
      "source": [
        "from hyperopt import fmin, tpe, hp, Trials\n",
        "\n",
        "train_pd = pd.read_parquet('./processed_data/df.train').sample(frac=0.5, random_state=0)\n",
        "val_pd = pd.read_parquet('./processed_data/df.val').sample(frac=0.5, random_state=0)\n",
        "\n",
        "X_train = np.array(train_pd.drop('is_laundering', axis=1))\n",
        "y_train = np.array(train_pd['is_laundering'])\n",
        "\n",
        "class_weights = {0: 1, 1: 1/(np.sum(y_train)/len(y_train))}\n",
        "\n",
        "X_val = np.array(val_pd.drop('is_laundering', axis=1))\n",
        "y_val = np.array(val_pd['is_laundering'])"
      ]
    },
    {
      "cell_type": "markdown",
      "metadata": {
        "id": "TEXKPu6Wixyn"
      },
      "source": [
        "The hyperparameter tuning will be performed by adding class weighting. This is because, in this way, balance is created between the classes when calculating the information gain."
      ]
    },
    {
      "cell_type": "code",
      "execution_count": 60,
      "metadata": {
        "id": "hYYwl_nDixyn"
      },
      "outputs": [
        {
          "name": "stdout",
          "output_type": "stream",
          "text": [
            "100%|██████████| 50/50 [12:53<00:00, 15.46s/trial, best loss: -0.5430167597765364]\n"
          ]
        }
      ],
      "source": [
        "if not skip_hyperparameter_tuning:\n",
        "\n",
        "    def objective_function(params):\n",
        "            dtc = DTC(**params, random_state=0, class_weights=class_weights, verbose=False)\n",
        "            dtc.fit(X_train, y_train)\n",
        "            return -dtc.score(X_val, y_val)\n",
        "\n",
        "\n",
        "    choises = {\n",
        "            'max_depth': [8, 9, 10, 11, 12, 13, 14, 15, 16],\n",
        "            'min_sample_split': [6, 7, 8, 9, 10, 11, 12, 13, 14, 15],\n",
        "            'criterion': ['gini', 'entropy', 'shannon'],\n",
        "            'max_features': ['sqrt', 'log2'],\n",
        "            'max_thresholds': [5, 6, 7, 8, 9, 10, 11, 12, 13, 14, 15]\n",
        "        }\n",
        "\n",
        "    space = {\n",
        "        'max_depth': hp.choice('max_depth', choises['max_depth']),\n",
        "        'min_sample_split': hp.choice('min_sample_split', choises['min_sample_split']),\n",
        "        'criterion': hp.choice('criterion', choises['criterion']),\n",
        "        'max_features': hp.choice('max_features', choises['max_features']),\n",
        "        'max_thresholds': hp.choice('max_thresholds', choises['max_thresholds'])\n",
        "    }\n",
        "\n",
        "    trials = Trials()\n",
        "    best = fmin(fn=objective_function, space=space, algo=tpe.suggest, max_evals=50, trials=trials)"
      ]
    },
    {
      "cell_type": "code",
      "execution_count": 61,
      "metadata": {
        "id": "tzGtH1Doixyn"
      },
      "outputs": [
        {
          "name": "stdout",
          "output_type": "stream",
          "text": [
            "criterion: gini\n",
            "max_depth: 10\n",
            "max_features: log2\n",
            "max_thresholds: 11\n",
            "min_sample_split: 11\n"
          ]
        }
      ],
      "source": [
        "if not skip_hyperparameter_tuning:\n",
        "    for key, value in best.items():\n",
        "        print(f\"{key}: {choises[key][value]}\")"
      ]
    },
    {
      "cell_type": "markdown",
      "metadata": {
        "id": "V0TfWXU2ixyn"
      },
      "source": [
        "## Train and Test DTC\n"
      ]
    },
    {
      "cell_type": "code",
      "execution_count": 112,
      "metadata": {
        "id": "AtrQjayYixyn"
      },
      "outputs": [
        {
          "name": "stdout",
          "output_type": "stream",
          "text": [
            "{'accuracy': 0.9986531031793854, 'recall': 0.4837261503928171, 'precision': 0.6580152671755726, 'f1_score': 0.5575679172056921}\n"
          ]
        }
      ],
      "source": [
        "test_pd = pd.read_parquet('./processed_data/df.test').sample(frac=0.5, random_state=0)\n",
        "\n",
        "X_test = np.array(test_pd.drop('is_laundering', axis=1))\n",
        "y_test = np.array(test_pd['is_laundering'])\n",
        "\n",
        "cls_m = DTC(random_state=0, class_weights=class_weights, max_thresholds = 11, criterion='gini', max_depth=10, min_sample_split=11, max_features='log2', verbose=True)\n",
        "cls_m.fit(X_train, y_train)\n",
        "y_pred = cls_m.predict(X_test)\n",
        "precision, recall, f1_score, accuracy = cls_m.calculate_metrics(y_test, y_pred)\n",
        "metrics = {\n",
        "                'accuracy': accuracy,\n",
        "                'recall': recall,\n",
        "                'precision': precision,\n",
        "                'f1_score': f1_score\n",
        "            }\n",
        "\n",
        "print(metrics)"
      ]
    },
    {
      "cell_type": "code",
      "execution_count": 113,
      "metadata": {
        "id": "kP3idT9qixyn"
      },
      "outputs": [
        {
          "data": {
            "image/png": "[encoded data removed]",
            "text/plain": [
              "<Figure size 640x480 with 2 Axes>"
            ]
          },
          "metadata": {},
          "output_type": "display_data"
        }
      ],
      "source": [
        "import matplotlib.pyplot as plt\n",
        "from sklearn.metrics import confusion_matrix\n",
        "\n",
        "\n",
        "cm = confusion_matrix(y_test, y_pred)\n",
        "\n",
        "\n",
        "class_names = ['0', '1']\n",
        "\n",
        "\n",
        "plt.imshow(cm, interpolation='nearest', cmap=plt.cm.Blues)\n",
        "plt.title('Confusion Matrix')\n",
        "plt.colorbar()\n",
        "\n",
        "tick_marks = np.arange(len(class_names))\n",
        "plt.xticks(tick_marks, class_names, rotation=45)\n",
        "plt.yticks(tick_marks, class_names)\n",
        "\n",
        "\n",
        "thresh = cm.max() / 2.0\n",
        "for i in range(cm.shape[0]):\n",
        "    for j in range(cm.shape[1]):\n",
        "        plt.text(j, i, format(cm[i, j], 'd'),\n",
        "                 horizontalalignment=\"center\",\n",
        "                 color=\"white\" if cm[i, j] > thresh else \"black\")\n",
        "\n",
        "plt.xlabel('Predicted Class')\n",
        "plt.ylabel('True Class')\n",
        "plt.tight_layout()\n",
        "plt.show()"
      ]
    },
    {
      "cell_type": "markdown",
      "metadata": {
        "id": "5ieGja0Oixyn"
      },
      "source": [
        "# Random Forest\n",
        "\n",
        "The Random Forest is an algorithm that combines multiple decision trees to make more accurate predictions. Hence, what will be done in this section is to create a random forest from scratch using Spark. The idea is to generate the trees on different workers, thereby parallelizing the workload and speeding up the execution."
      ]
    },
    {
      "cell_type": "code",
      "execution_count": 19,
      "metadata": {
        "id": "MWTZPO4Fixyn"
      },
      "outputs": [],
      "source": [
        "!git clone https://github.com/fabiobrambilla98/Joint_Project_AMD_SM2L.git\n",
        "\n",
        "# Step 2: Navigate to the folder containing the Python file\n",
        "%cd Joint_Project_AMD_SM2L\n",
        "\n",
        "from DecisionTreeClassifier import DTC"
      ]
    },
    {
      "cell_type": "code",
      "execution_count": 20,
      "metadata": {
        "id": "fHFQuA30ixyn"
      },
      "outputs": [],
      "source": [
        "class RandomForest():\n",
        "    def __init__(self, n_estimators = 100, features_col = \"feature\", label_col = \"label\", min_sample_split = 2, criterion = \"gini\", max_depth = None, max_features = \"sqrt\", bootstrap = False, random_state = None, max_thresholds = None, verbose = 0):\n",
        "        \"\"\"\n",
        "        Initializes the RandomForest classifier.\n",
        "\n",
        "        Parameters:\n",
        "        - n_estimators: int, number of trees in the forest.\n",
        "        - features_col: str, name of the column containing features.\n",
        "        - label_col: str, name of the column containing labels.\n",
        "        - min_sample_split: int, minimum number of samples required to split a node.\n",
        "        - criterion: str, function to measure the quality of a split.\n",
        "        - max_depth: int, maximum depth of the tree.\n",
        "        - max_features: str, number of features to consider when looking for the best split.\n",
        "        - bootstrap: bool, whether bootstrap samples are used when building trees.\n",
        "        - random_state: int, seed used by the random number generator.\n",
        "        - max_thresholds: int, maximum number of thresholds to consider for each feature.\n",
        "        - verbose: int, controls verbosity of output.\n",
        "        \"\"\"\n",
        "\n",
        "        self.n_estimators = n_estimators\n",
        "        self.criterion = criterion\n",
        "        self.max_depth = max_depth\n",
        "        self.max_features = max_features\n",
        "        self.bootstrap = bootstrap\n",
        "        self.random_state = random_state\n",
        "        self.verbose = verbose\n",
        "        self.trained_trees = []\n",
        "        self.features_col = features_col\n",
        "        self.label_col = label_col\n",
        "        self.max_thresholds = max_thresholds\n",
        "        self.min_sample_split = min_sample_split\n",
        "\n",
        "        if self.random_state is not None:\n",
        "            self.random_generator = np.random.RandomState(self.random_state)\n",
        "        else:\n",
        "            self.random_generator = None\n",
        "\n",
        "\n",
        "    def __create_tree(self, partition_id, iterator):\n",
        "        data = list(iterator)\n",
        "        columns = list(data[0].__dict__.items())[0][1]\n",
        "        df = pd.DataFrame(data, columns=columns).drop('id', axis=1)\n",
        "        label_array = np.array(df[self.label_col])\n",
        "\n",
        "        if self.random_generator:\n",
        "            tree_random_state = self.random_state + partition_id\n",
        "        else:\n",
        "            tree_random_state = None\n",
        "\n",
        "\n",
        "        clf = DTC(max_depth=self.max_depth, criterion=self.criterion, max_features=self.max_features,\n",
        "                  random_state=tree_random_state, max_thresholds=self.max_thresholds,\n",
        "                  class_weights={0: 1, 1: 1 / (np.sum(label_array) / len(label_array))}, min_sample_split = self.min_sample_split)\n",
        "\n",
        "        clf.fit(np.array([x.toArray().tolist() for x in np.array(df[self.features_col])]), label_array)\n",
        "\n",
        "        yield clf\n",
        "\n",
        "\n",
        "    def fit(self, X):\n",
        "        \"\"\"\n",
        "        Build a forest of trees from the training set (X).\n",
        "\n",
        "        Parameters:\n",
        "        - X: DataFrame, training data.\n",
        "        \"\"\"\n",
        "        df = X.select(self.label_col, self.features_col)\n",
        "\n",
        "        df_train = df\n",
        "\n",
        "        if(self.bootstrap):\n",
        "            df_train = df_train.sample(withReplacement=True, fraction=1.0, seed=self.random_state)\n",
        "\n",
        "        df = df_train.withColumn(\"id\", monotonically_increasing_id())\n",
        "\n",
        "        df = df.repartition(self.n_estimators, \"id\")\n",
        "\n",
        "        models = df.rdd.mapPartitionsWithIndex(self.__create_tree)\n",
        "        self.trained_trees = models.collect()\n",
        "\n",
        "    def __predict(self, index, iterator):\n",
        "        data = list(iterator)\n",
        "        columns = list(data[0].__dict__.items())[0][1]\n",
        "        df = pd.DataFrame(data, columns=columns)\n",
        "        predictions = []\n",
        "        ids_table = np.array(df['id'])\n",
        "        for model in self.trained_trees:\n",
        "            predictions.append(model.predict(np.array(df.iloc[:,:-1])))\n",
        "\n",
        "        n = len(predictions[0])\n",
        "\n",
        "        most_frequent = []\n",
        "\n",
        "\n",
        "        for i in range(n):\n",
        "            values = [a[i] for a in predictions]\n",
        "            counter = Counter(values)\n",
        "            most_common = counter.most_common(1)[0]\n",
        "            most_frequent.append(most_common[0])\n",
        "\n",
        "        returning = list(zip(ids_table, most_frequent))\n",
        "\n",
        "\n",
        "        yield returning\n",
        "\n",
        "    def predict(self, X):\n",
        "        \"\"\"\n",
        "        Predict class for X.\n",
        "\n",
        "        Parameters:\n",
        "        - X: DataFrame, input samples.\n",
        "\n",
        "        Returns:\n",
        "        - predictions: list, predicted class labels for samples in X.\n",
        "        \"\"\"\n",
        "        df = X.withColumn(\"id\", monotonically_increasing_id()).repartition(self.n_estimators, \"id\")\n",
        "        models = df.rdd.mapPartitionsWithIndex(lambda index, iterator: self.__predict(index, iterator))\n",
        "        collapsed_list = []\n",
        "        for sublist in models.collect():\n",
        "            collapsed_list.extend(sublist)\n",
        "        sorted_list = [x[1] for x in sorted(collapsed_list, key=lambda x: x[0])]\n",
        "        return sorted_list\n",
        "\n",
        "    def calculate_metrics(self, y_true, y_pred):\n",
        "\n",
        "        \"\"\"\n",
        "        Calculate performance metrics: precision, recall, f1-score, and accuracy.\n",
        "\n",
        "        Parameters:\n",
        "        - y_true: list, true class labels.\n",
        "        - y_pred: list, predicted class labels by the model.\n",
        "\n",
        "        Returns:\n",
        "        - precision: float, precision metric.\n",
        "        - recall: float, recall metric.\n",
        "        - f1_score: float, f1-score metric.\n",
        "        - accuracy: float, accuracy metric.\n",
        "        \"\"\"\n",
        "\n",
        "        TP = 0\n",
        "        TN = 0\n",
        "        FP = 0\n",
        "        FN = 0\n",
        "\n",
        "\n",
        "        for true, pred in zip(y_true, y_pred):\n",
        "            if true == 1 and pred == 1:\n",
        "                TP += 1\n",
        "            elif true == 0 and pred == 0:\n",
        "                TN += 1\n",
        "            elif true == 1 and pred == 0:\n",
        "                FN += 1\n",
        "            elif true == 0 and pred == 1:\n",
        "                FP += 1\n",
        "\n",
        "\n",
        "        precision = TP / (TP + FP) if (TP + FP) != 0 else 0\n",
        "        recall = TP / (TP + FN) if (TP + FN) != 0 else 0\n",
        "        f1_score = 2 * (precision * recall) / (precision + recall) if (precision + recall) != 0 else 0\n",
        "        accuracy = (TP + TN) / (TP + TN + FP + FN)\n",
        "\n",
        "        return precision, recall, f1_score, accuracy"
      ]
    },
    {
      "cell_type": "code",
      "execution_count": 9,
      "metadata": {
        "id": "ryDL7doaixyn"
      },
      "outputs": [],
      "source": [
        "train_df = spark.read.parquet('./processed_data/df.train')#.sample(False, fraction=0.5, seed=0)\n",
        "test_df = spark.read.parquet('./processed_data/df.test')#.sample(False,fraction=0.5, seed=0)\n",
        "val_df = spark.read.parquet('./processed_data/df.val')#.sample(False,fraction=0.5, seed=0)"
      ]
    },
    {
      "cell_type": "code",
      "execution_count": 21,
      "metadata": {
        "id": "xQRTeSAnixyn",
        "outputId": "01ece889-f0c5-4ccb-df22-97248576ae19"
      },
      "outputs": [
        {
          "name": "stderr",
          "output_type": "stream",
          "text": [
            "                                                                                \r"
          ]
        }
      ],
      "source": [
        "from pyspark.ml.feature import VectorAssembler\n",
        "rf = RandomForest(label_col=\"is_laundering\", features_col=\"features\", bootstrap=True, n_estimators=30, random_state=0, max_features=\"log2\", max_thresholds=11)\n",
        "assembler = VectorAssembler(inputCols=train_df.drop(\"is_laundering\").columns, outputCol=\"features\")\n",
        "train = assembler.transform(train_df)\n",
        "test = assembler.transform(test_df)\n",
        "rf.fit(train)"
      ]
    },
    {
      "cell_type": "code",
      "execution_count": 23,
      "metadata": {
        "id": "LIAeBNIrixyo",
        "outputId": "0b9df94a-eb0b-4c50-8d48-27d81b11f352"
      },
      "outputs": [
        {
          "name": "stderr",
          "output_type": "stream",
          "text": [
            "23/08/29 19:48:58 WARN CacheManager: Asked to cache already cached data.\n",
            "                                                                                \r"
          ]
        },
        {
          "name": "stdout",
          "output_type": "stream",
          "text": [
            "{'accuracy': 0.998749592633033, 'recall': 0.43548387096774194, 'precision': 0.7543352601156069, 'f1_score': 0.5521861777150917}\n"
          ]
        }
      ],
      "source": [
        "test.cache()\n",
        "y_true=np.array(test.select('is_laundering').collect()).squeeze()\n",
        "rf.n_estimators = 100\n",
        "y_pred = rf.predict(test_df.drop(\"is_laundering\"))\n",
        "precision, recall, f1_score, accuracy = rf.calculate_metrics(y_true, y_pred)\n",
        "metrics = {\n",
        "                'accuracy': accuracy,\n",
        "                'recall': recall,\n",
        "                'precision': precision,\n",
        "                'f1_score': f1_score\n",
        "            }\n",
        "\n",
        "print(metrics)\n"
      ]
    },
    {
      "cell_type": "code",
      "execution_count": 24,
      "metadata": {
        "id": "EC1OMLL5ixyo",
        "outputId": "079f0a04-75cf-4d21-b760-b3511c957b34"
      },
      "outputs": [
        {
          "data": {
            "image/png": "[encoded data removed]",
            "text/plain": [
              "<Figure size 640x480 with 2 Axes>"
            ]
          },
          "metadata": {},
          "output_type": "display_data"
        }
      ],
      "source": [
        "import matplotlib.pyplot as plt\n",
        "from sklearn.metrics import confusion_matrix\n",
        "\n",
        "\n",
        "cm = confusion_matrix(y_true, y_pred)\n",
        "\n",
        "\n",
        "class_names = ['0', '1']\n",
        "\n",
        "\n",
        "plt.imshow(cm, interpolation='nearest', cmap=plt.cm.Blues)\n",
        "plt.title('Confusion Matrix')\n",
        "plt.colorbar()\n",
        "\n",
        "tick_marks = np.arange(len(class_names))\n",
        "plt.xticks(tick_marks, class_names, rotation=45)\n",
        "plt.yticks(tick_marks, class_names)\n",
        "\n",
        "thresh = cm.max() / 2.0\n",
        "for i in range(cm.shape[0]):\n",
        "    for j in range(cm.shape[1]):\n",
        "        plt.text(j, i, format(cm[i, j], 'd'),\n",
        "                 horizontalalignment=\"center\",\n",
        "                 color=\"white\" if cm[i, j] > thresh else \"black\")\n",
        "\n",
        "plt.xlabel('Predicted Class')\n",
        "plt.ylabel('True Class')\n",
        "plt.tight_layout()\n",
        "plt.show()\n"
      ]
    }
  ],
  "metadata": {
    "colab": {
      "provenance": []
    },
    "kernelspec": {
      "display_name": "gpu-env",
      "language": "python",
      "name": "python3"
    },
    "language_info": {
      "codemirror_mode": {
        "name": "ipython",
        "version": 3
      },
      "file_extension": ".py",
      "mimetype": "text/x-python",
      "name": "python",
      "nbconvert_exporter": "python",
      "pygments_lexer": "ipython3",
      "version": "3.9.16"
    },
    "orig_nbformat": 4
  },
  "nbformat": 4,
  "nbformat_minor": 0
}
